!pip3 install numpy datasets


import numpy as np
from datasets import load_dataset


dataset = load_dataset('mnist')
train_dataset = dataset['train']
print(train_dataset[0])


n_h = 10
W1 = np.random.randn(10,784) * 0.01
b1 = np.zeros((n_h,1))


def relu(Z):
    return np.max(0,Z)





def linear_forward(W,A,b):
    Z = np.dot(W, A) + b
    cache = (W,A,b)

    return Z, cache


def forward_activation(W, A, b, activation):
    if activation == "sigmoid":
        Z, cache = linear_forward(W, A, b)
        return 1/(1+np.e**-x)

    if activation == "relu":
        return np.max(0,Z)
        
