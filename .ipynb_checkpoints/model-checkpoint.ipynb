{
 "cells": [
  {
   "cell_type": "code",
   "execution_count": 1,
   "id": "1a6de60f-dc10-4bd3-a433-9467f6dc1764",
   "metadata": {},
   "outputs": [],
   "source": [
    "#!pip install numpy datasets Pillow"
   ]
  },
  {
   "cell_type": "code",
   "execution_count": 2,
   "id": "5cd2a369-8421-4ed9-80b6-2fd2e067c93f",
   "metadata": {},
   "outputs": [
    {
     "name": "stderr",
     "output_type": "stream",
     "text": [
      "/Users/danieldowd/Library/Python/3.9/lib/python/site-packages/urllib3/__init__.py:35: NotOpenSSLWarning: urllib3 v2 only supports OpenSSL 1.1.1+, currently the 'ssl' module is compiled with 'LibreSSL 2.8.3'. See: https://github.com/urllib3/urllib3/issues/3020\n",
      "  warnings.warn(\n",
      "/Users/danieldowd/Library/Python/3.9/lib/python/site-packages/tqdm/auto.py:21: TqdmWarning: IProgress not found. Please update jupyter and ipywidgets. See https://ipywidgets.readthedocs.io/en/stable/user_install.html\n",
      "  from .autonotebook import tqdm as notebook_tqdm\n"
     ]
    }
   ],
   "source": [
    "import numpy as np\n",
    "from datasets import load_dataset\n",
    "import math\n",
    "import PIL.Image as Image"
   ]
  },
  {
   "cell_type": "code",
   "execution_count": 3,
   "id": "ced955e3-9252-4b2c-acaa-3f78f72af82b",
   "metadata": {},
   "outputs": [],
   "source": [
    "def relu(Z):\n",
    "    return np.maximum(0,Z)"
   ]
  },
  {
   "cell_type": "code",
   "execution_count": 4,
   "id": "7aeec8f9-1f6a-4084-8dee-1224e50cda37",
   "metadata": {},
   "outputs": [
    {
     "name": "stdout",
     "output_type": "stream",
     "text": [
      "[[0.67435404 0.49117437]\n",
      " [0.03065551 0.52555793]\n",
      " [0.85209841 0.17836228]\n",
      " [0.63882956 0.01119575]\n",
      " [0.23267744 0.89489578]\n",
      " [0.6890755  0.48012301]\n",
      " [0.29770143 0.66773982]\n",
      " [0.97727825 0.86105917]\n",
      " [0.70028144 0.95928848]\n",
      " [0.16573499 0.54229028]]\n"
     ]
    }
   ],
   "source": [
    "Z = np.random.rand(10,2)\n",
    "print(relu(Z))"
   ]
  },
  {
   "cell_type": "code",
   "execution_count": 5,
   "id": "997cbea3-af78-4092-8b51-c88140a77f23",
   "metadata": {},
   "outputs": [],
   "source": [
    "def softmax(Z):\n",
    "    exps = np.exp(Z - np.max(Z))\n",
    "    sum = np.sum(exps, axis=0, keepdims=True)\n",
    "    return exps / sum"
   ]
  },
  {
   "cell_type": "code",
   "execution_count": 6,
   "id": "775f6062-82c9-43ce-815d-9d49c69b6e3b",
   "metadata": {},
   "outputs": [
    {
     "name": "stdout",
     "output_type": "stream",
     "text": [
      "2.0\n"
     ]
    }
   ],
   "source": [
    "A = softmax(np.random.randn(10,2))\n",
    "print(np.sum(A))\n",
    "# using math.isclose because of floating point errors\n",
    "assert math.isclose(2, np.sum(A))"
   ]
  },
  {
   "cell_type": "code",
   "execution_count": 7,
   "id": "fff234f6-b421-4fae-934f-f267e0988038",
   "metadata": {},
   "outputs": [],
   "source": [
    "def linear_forward(A_prev, W, b):\n",
    "    \"\"\"Linear Transformation\n",
    "    Takes activation output of previous, W and b of current \n",
    "    returns tuple with Z and cache of the inputs to this function\n",
    "    \"\"\"\n",
    "    Z = np.dot(W, A_prev) + b\n",
    "    cache = (A_prev, W, b)\n",
    "\n",
    "    return Z, cache"
   ]
  },
  {
   "cell_type": "code",
   "execution_count": 8,
   "id": "60c38c7e-f0ac-4c56-a46a-eaaf90d8f6e3",
   "metadata": {},
   "outputs": [],
   "source": [
    "fake_train = np.random.randn(784, 5)\n",
    "fake_W = np.random.randn(10, 784)\n",
    "fake_b = np.zeros((10,1))\n",
    "fake_Z, fake_cache = linear_forward(fake_train, fake_W, fake_b)\n",
    "\n",
    "fake_W2 = np.random.randn(20,10)\n",
    "fake_b2 = np.zeros((20,1))\n",
    "\n",
    "fake_Z2, fake_cache = linear_forward(fake_Z, fake_W2, fake_b2)"
   ]
  },
  {
   "cell_type": "code",
   "execution_count": 9,
   "id": "9d38cd25-333b-4b20-898e-591df0ec746f",
   "metadata": {},
   "outputs": [],
   "source": [
    "def forward_activation(Z, activation):\n",
    "    \"\"\"\n",
    "    @param Z output of linear layer\n",
    "    @param relu or softmax\n",
    "    returns output of activation and Z\n",
    "    \"\"\"\n",
    "    if activation == \"relu\":\n",
    "        A = relu(Z)\n",
    "        return A, Z\n",
    "    if activation == \"softmax\":\n",
    "        A = softmax(Z)\n",
    "        return A, Z"
   ]
  },
  {
   "cell_type": "code",
   "execution_count": 10,
   "id": "21631368-31fe-4b10-9c9e-8c98cdc04a04",
   "metadata": {},
   "outputs": [],
   "source": [
    "def compute_cost(Y_hat, Y):\n",
    "    m = Y.shape[1]\n",
    "    return -np.sum(Y * np.log(Y_hat)) / m"
   ]
  },
  {
   "cell_type": "code",
   "execution_count": 11,
   "id": "09129d7e-5f51-4142-b168-33a2a20d9709",
   "metadata": {},
   "outputs": [
    {
     "name": "stdout",
     "output_type": "stream",
     "text": [
      "[[1. 0.]\n",
      " [0. 1.]\n",
      " [0. 0.]\n",
      " [0. 0.]\n",
      " [0. 0.]\n",
      " [0. 0.]\n",
      " [0. 0.]\n",
      " [0. 0.]\n",
      " [0. 0.]\n",
      " [0. 0.]]\n",
      "[[0.0713835  0.14123887]\n",
      " [0.28809995 0.07909781]\n",
      " [0.0576663  0.01979414]\n",
      " [0.0324106  0.06552825]\n",
      " [0.19993752 0.17377762]\n",
      " [0.03979986 0.29224956]\n",
      " [0.06096412 0.02920601]\n",
      " [0.06282414 0.03695044]\n",
      " [0.08812575 0.09513607]\n",
      " [0.09878825 0.06702124]]\n",
      "2.588379323272076\n"
     ]
    }
   ],
   "source": [
    "Y = np.zeros((10,2))\n",
    "Y[0][0] = 1\n",
    "Y[1][1] = 1\n",
    "print(Y)\n",
    "A = softmax(np.array(np.random.randn(10,2)))\n",
    "print(A)\n",
    "print(compute_cost(A, Y))"
   ]
  },
  {
   "cell_type": "code",
   "execution_count": 12,
   "id": "cf6f76f5-e06e-4882-a9db-e1e1fcef3ada",
   "metadata": {},
   "outputs": [],
   "source": [
    "def linear_backward(dZ, cache):\n",
    "    A_prev, W, b = cache\n",
    "    m = A_prev.shape[1]\n",
    "    \n",
    "    dW = np.dot(dZ, A_prev.T) / m\n",
    "    db = np.sum(dZ, axis = 1, keepdims = True) / m\n",
    "    dA_prev = np.dot(W.T, dZ)\n",
    "\n",
    "    return dA_prev, dW, db"
   ]
  },
  {
   "cell_type": "code",
   "execution_count": 13,
   "id": "2455f934-bb04-4f61-8970-2383794a24f6",
   "metadata": {},
   "outputs": [],
   "source": [
    "def relu_activation_backward(dA, Z):\n",
    "    dZ = np.array(dA, copy=True)\n",
    "    dZ[Z <= 0] = 0\n",
    "\n",
    "    return dZ"
   ]
  },
  {
   "cell_type": "code",
   "execution_count": 14,
   "id": "393a9c87-c9ce-44dc-aad6-90b1474d4618",
   "metadata": {},
   "outputs": [],
   "source": [
    "def cross_entropy_softmax_activation_backward(Y_hat, Y):\n",
    "    return Y_hat - Y"
   ]
  },
  {
   "cell_type": "code",
   "execution_count": 15,
   "id": "25bb56d8-6324-4fba-8b1c-bbb91a081837",
   "metadata": {},
   "outputs": [],
   "source": [
    "def update_params(W, b, dW, db, learning_rate):\n",
    "    updated_W = W - learning_rate * dW\n",
    "    updated_b = b - learning_rate * db\n",
    "\n",
    "    return updated_W, updated_b"
   ]
  },
  {
   "cell_type": "code",
   "execution_count": 16,
   "id": "891224aa-e441-484a-a8eb-e49e16195e05",
   "metadata": {},
   "outputs": [
    {
     "name": "stdout",
     "output_type": "stream",
     "text": [
      "(array([[-2.02,  1.98],\n",
      "       [ 2.98,  2.98]]), 0.99)\n"
     ]
    }
   ],
   "source": [
    "update_W = np.array([[-2,2],[3,3]])\n",
    "update_b = 1\n",
    "print(update_params(update_W, update_b, 2, 1, 0.01))"
   ]
  },
  {
   "cell_type": "code",
   "execution_count": 17,
   "id": "9b07a06e-cc3b-4f54-a2e3-f483174aa518",
   "metadata": {},
   "outputs": [],
   "source": [
    "def model_forward(X, params):\n",
    "    \"\"\"\n",
    "    Passes input through layers. Params should account for at least 2 layers.\n",
    "    returns Y_hat, params, and cache for each layer\n",
    "    \"\"\"\n",
    "    if len(params) <= 1:\n",
    "        raise Exception(\"model_forward params should contain at least 2 layers\")\n",
    "    \n",
    "    caches = []\n",
    "\n",
    "    # first layer uses the input X\n",
    "    first_W, first_b = params[0]\n",
    "    Z, forward_cache = linear_forward(X, first_W, first_b)\n",
    "    A, activation_cache = forward_activation(Z, \"relu\")\n",
    "    caches.append((forward_cache, activation_cache))\n",
    "\n",
    "    # all of the middle layers use the previous layers output\n",
    "    for W,b in params[1:-1]:\n",
    "        Z, forward_cache = linear_forward(A, W, b)\n",
    "        A, activation_cache = forward_activation(Z, \"relu\")\n",
    "        caches.append((forward_cache, activation_cache))\n",
    "\n",
    "    # last layer uses the softmax activation function\n",
    "    last_W, last_b = params[-1]\n",
    "    Z, forward_cache = linear_forward(A, last_W, last_b)\n",
    "    A, activation_cache = forward_activation(Z, \"softmax\")\n",
    "    caches.append((forward_cache, activation_cache))\n",
    "\n",
    "    return A, params, caches"
   ]
  },
  {
   "cell_type": "code",
   "execution_count": 18,
   "id": "48a7a096-9913-4d93-985b-db435bf0ec47",
   "metadata": {},
   "outputs": [],
   "source": [
    "def model_backward(Y_hat, Y, params, caches):\n",
    "    \"\"\"\n",
    "    @param Y_hat predicated outputs from forward pass\n",
    "    @param Y true labels\n",
    "    @param params to be updated\n",
    "    @param caches tuple containing forward_cache and activation_cache from forward\n",
    "    \"\"\"\n",
    "    learning_rate = 0.01\n",
    "    \n",
    "    last_linear_cache, last_activation_cache = caches[-1]\n",
    "    dZ = cross_entropy_softmax_activation_backward(Y_hat, Y)\n",
    "    dA_prev, dW, db = linear_backward(dZ, last_linear_cache)\n",
    "    temp_W, temp_b = params[-1]\n",
    "    params[-1] = update_params(temp_W, temp_b, dW, db, learning_rate)\n",
    "\n",
    "    # don't include the last\n",
    "    params_pointer = len(params) - 2\n",
    "    for linear_cache, activation_cache in reversed(caches[:-1]):\n",
    "        dZ = relu_activation_backward(dA_prev, activation_cache)\n",
    "        dA_prev, dW, db = linear_backward(dZ, linear_cache)\n",
    "        temp_W, temp_b = params[params_pointer]\n",
    "        params[params_pointer] = update_params(temp_W, temp_b, dW, db, learning_rate)\n",
    "\n",
    "    return params"
   ]
  },
  {
   "cell_type": "code",
   "execution_count": 19,
   "id": "01f8c0af-9bf5-497c-a688-6b6c13383c64",
   "metadata": {},
   "outputs": [],
   "source": [
    "def format_data(dataset):\n",
    "    \"\"\"\n",
    "    Formats dataset to work with model\n",
    "    returns binary images, labels\n",
    "    \"\"\"\n",
    "    images = []\n",
    "    Y = np.zeros((10, dataset.shape[0]))\n",
    "    for i, example in enumerate(dataset):\n",
    "        images.append(np.array(example['image']).flatten())\n",
    "        label = example['label']\n",
    "        Y[label][i] = 1\n",
    "    \n",
    "    images = np.array(images).T\n",
    "    return images, Y"
   ]
  },
  {
   "cell_type": "code",
   "execution_count": 20,
   "id": "070ffe67-f6c7-45f9-995a-d6691e998d6b",
   "metadata": {},
   "outputs": [],
   "source": [
    "dataset = load_dataset('mnist')\n",
    "train_dataset = dataset['train']\n",
    "\n",
    "train_images, Y = format_data(train_dataset)"
   ]
  },
  {
   "cell_type": "code",
   "execution_count": 21,
   "id": "fab7bd29-4c03-4869-80e2-58f8ec1085f2",
   "metadata": {},
   "outputs": [
    {
     "name": "stdout",
     "output_type": "stream",
     "text": [
      "[0. 0. 0. 0. 0. 1. 0. 0. 0. 0.]\n",
      "5\n"
     ]
    }
   ],
   "source": [
    "print(Y[:,0])\n",
    "print(train_dataset['label'][0])"
   ]
  },
  {
   "cell_type": "code",
   "execution_count": 22,
   "id": "6874c47e-18d1-43ae-807b-2ad81c86f2b2",
   "metadata": {},
   "outputs": [],
   "source": [
    "n_h = 784\n",
    "W1 = np.random.randn(n_h,784) * 0.01\n",
    "b1 = np.zeros((n_h,1))\n",
    "\n",
    "W2 = np.random.randn(n_h, n_h) * 0.01\n",
    "b2 = np.zeros((n_h, 1))\n",
    "\n",
    "W3 = np.random.randn(10, n_h) * 0.01\n",
    "b3 = np.zeros((10,1))\n",
    "\n",
    "params = [(W1, b1), (W2, b2), (W3, b3)]"
   ]
  },
  {
   "cell_type": "code",
   "execution_count": 23,
   "id": "b2f9cb6b-32b1-4686-8ce9-7004a805b2db",
   "metadata": {},
   "outputs": [
    {
     "name": "stdout",
     "output_type": "stream",
     "text": [
      "2.568793484883357\n",
      "3.931390899852869\n",
      "5.2751618162809555\n",
      "3.8879711339708125\n",
      "1.950962827392716\n",
      "1.6607210537695596\n",
      "1.4242308683637683\n",
      "1.200956956178693\n",
      "1.0155211074009862\n",
      "0.8828934838926144\n",
      "0.7918003836631741\n",
      "0.7318835318508988\n",
      "0.7206140411646177\n",
      "0.8743962430989263\n",
      "1.4809432532382187\n",
      "1.2995428382597722\n",
      "1.1098122533389796\n",
      "0.7844938512065005\n",
      "0.6290066048272102\n",
      "0.5700698040193339\n",
      "0.5462421903151008\n",
      "0.5378120486819471\n",
      "0.5701164199073904\n",
      "0.6565056383959655\n",
      "0.7783718476083309\n",
      "0.783080707061853\n",
      "0.5662206653103093\n",
      "0.4795231580442267\n",
      "0.45471472390347895\n",
      "0.43813926681623266\n",
      "0.4277329556067663\n",
      "0.4199231168160232\n",
      "0.4154682556742228\n",
      "0.4160663645290645\n",
      "0.42858308412672624\n",
      "0.45572666892618485\n",
      "0.5458694258176973\n",
      "0.577498649661187\n",
      "0.686012415899268\n",
      "0.4965627413934627\n",
      "0.43921575346427066\n",
      "0.3927599818207807\n",
      "0.3823524803092129\n",
      "0.37175358492180666\n",
      "0.36793623366208567\n",
      "0.36333793490684774\n",
      "0.3626561944933779\n",
      "0.3615697753349816\n",
      "0.3653801599789353\n",
      "0.37026460746440165\n",
      "0.3832433732284846\n",
      "0.3997937629876694\n",
      "0.42716976855567573\n",
      "0.4505512377893919\n",
      "0.4694112330423432\n",
      "0.4547778439253605\n",
      "0.43133148126449405\n",
      "0.3971461978872646\n",
      "0.37893265879053567\n",
      "0.3652588952926171\n",
      "0.3536420744137151\n",
      "0.35258648264155856\n",
      "0.34206471958177426\n",
      "0.34476241492341975\n",
      "0.33466666621404184\n",
      "0.33795134930814436\n",
      "0.32829809560312107\n",
      "0.3310238537540083\n",
      "0.32208570680538834\n",
      "0.3239042437472091\n",
      "0.3159634536635318\n",
      "0.316940481269688\n",
      "0.3101017000036822\n",
      "0.31045742039697305\n",
      "0.304696315342696\n",
      "0.30464918458600443\n",
      "0.29979962673235655\n",
      "0.2995204744521889\n",
      "0.29542878424597047\n",
      "0.2950516396486843\n",
      "0.29153253781499766\n",
      "0.2911316678285477\n",
      "0.2880517054301294\n",
      "0.28767687928415875\n",
      "0.2849395625650309\n",
      "0.28462855941017207\n",
      "0.2821328040758259\n",
      "0.2819069189472159\n",
      "0.27960725086773436\n",
      "0.2795054618608795\n",
      "0.27733639434154533\n",
      "0.27736374878952497\n",
      "0.2752941751568983\n",
      "0.27547941418438465\n",
      "0.2734755082462635\n",
      "0.2738391650389919\n",
      "0.2718604387875109\n",
      "0.27241134251815036\n",
      "0.2704136458369118\n",
      "0.2711516516902351\n"
     ]
    }
   ],
   "source": [
    "for i in range(100):\n",
    "    Y_hat, params, caches = model_forward(train_images, params) \n",
    "    print(compute_cost(Y_hat, Y))\n",
    "    model_backward(Y_hat, Y, params, caches)"
   ]
  },
  {
   "cell_type": "code",
   "execution_count": 24,
   "id": "a7594155-f121-4b34-a143-3a760d6f9d4a",
   "metadata": {},
   "outputs": [
    {
     "name": "stdout",
     "output_type": "stream",
     "text": [
      "(784, 10000)\n"
     ]
    }
   ],
   "source": [
    "test_dataset = dataset[\"test\"]\n",
    "test_images, Y_test = format_data(test_dataset)\n",
    "print(test_images.shape)"
   ]
  },
  {
   "cell_type": "code",
   "execution_count": 25,
   "id": "78677152-da91-4888-a819-e80a6ffaf646",
   "metadata": {},
   "outputs": [
    {
     "name": "stdout",
     "output_type": "stream",
     "text": [
      "(784, 1)\n",
      "752\n"
     ]
    }
   ],
   "source": [
    "print(params[1][1].shape)\n",
    "Y_hat, params, caches = model_forward(test_images, params)\n",
    "Y_pred = np.argmax(Y_hat, axis=0)\n",
    "Y_answer = np.argmax(Y_test, axis=0)\n",
    "\n",
    "diff = Y_pred - Y_answer\n",
    "# print number of incorrect\n",
    "print(np.count_nonzero(diff))"
   ]
  }
 ],
 "metadata": {
  "kernelspec": {
   "display_name": "Python 3 (ipykernel)",
   "language": "python",
   "name": "python3"
  },
  "language_info": {
   "codemirror_mode": {
    "name": "ipython",
    "version": 3
   },
   "file_extension": ".py",
   "mimetype": "text/x-python",
   "name": "python",
   "nbconvert_exporter": "python",
   "pygments_lexer": "ipython3",
   "version": "3.9.6"
  }
 },
 "nbformat": 4,
 "nbformat_minor": 5
}
