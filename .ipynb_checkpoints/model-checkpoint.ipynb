{
 "cells": [
  {
   "cell_type": "code",
   "execution_count": 57,
   "id": "1a6de60f-dc10-4bd3-a433-9467f6dc1764",
   "metadata": {},
   "outputs": [],
   "source": [
    "#!pip install numpy datasets Pillow"
   ]
  },
  {
   "cell_type": "code",
   "execution_count": 58,
   "id": "5cd2a369-8421-4ed9-80b6-2fd2e067c93f",
   "metadata": {},
   "outputs": [],
   "source": [
    "import numpy as np\n",
    "from datasets import load_dataset\n",
    "import math\n",
    "import PIL.Image as Image"
   ]
  },
  {
   "cell_type": "code",
   "execution_count": 59,
   "id": "ced955e3-9252-4b2c-acaa-3f78f72af82b",
   "metadata": {},
   "outputs": [],
   "source": [
    "def relu(Z):\n",
    "    return np.maximum(0,Z)"
   ]
  },
  {
   "cell_type": "code",
   "execution_count": 60,
   "id": "7aeec8f9-1f6a-4084-8dee-1224e50cda37",
   "metadata": {},
   "outputs": [
    {
     "name": "stdout",
     "output_type": "stream",
     "text": [
      "[[0.49100846 0.20234597]\n",
      " [0.52323675 0.53469981]\n",
      " [0.05449806 0.67790417]\n",
      " [0.22211327 0.32422883]\n",
      " [0.3604039  0.17657048]\n",
      " [0.87616125 0.14433414]\n",
      " [0.49603478 0.21707525]\n",
      " [0.7067448  0.71885359]\n",
      " [0.24163933 0.17996736]\n",
      " [0.8994299  0.8141308 ]]\n"
     ]
    }
   ],
   "source": [
    "Z = np.random.rand(10,2)\n",
    "print(relu(Z))"
   ]
  },
  {
   "cell_type": "code",
   "execution_count": 61,
   "id": "997cbea3-af78-4092-8b51-c88140a77f23",
   "metadata": {},
   "outputs": [],
   "source": [
    "def softmax(Z):\n",
    "    exps = np.exp(Z - np.max(Z))\n",
    "    sum = np.sum(exps, axis=0, keepdims=True)\n",
    "    return exps / sum"
   ]
  },
  {
   "cell_type": "code",
   "execution_count": 62,
   "id": "775f6062-82c9-43ce-815d-9d49c69b6e3b",
   "metadata": {},
   "outputs": [
    {
     "name": "stdout",
     "output_type": "stream",
     "text": [
      "2.0\n"
     ]
    }
   ],
   "source": [
    "A = softmax(np.random.randn(10,2))\n",
    "print(np.sum(A))\n",
    "# using math.isclose because of floating point errors\n",
    "assert math.isclose(2, np.sum(A))"
   ]
  },
  {
   "cell_type": "code",
   "execution_count": 63,
   "id": "fff234f6-b421-4fae-934f-f267e0988038",
   "metadata": {},
   "outputs": [],
   "source": [
    "def linear_forward(A_prev, W, b):\n",
    "    \"\"\"Linear Transformation\n",
    "    Takes activation output of previous, W and b of current \n",
    "    returns tuple with Z and cache of the inputs to this function\n",
    "    \"\"\"\n",
    "    \n",
    "    Z = np.dot(W, A_prev) + b\n",
    "    cache = (A_prev, W, b)\n",
    "\n",
    "    return Z, cache"
   ]
  },
  {
   "cell_type": "code",
   "execution_count": 64,
   "id": "60c38c7e-f0ac-4c56-a46a-eaaf90d8f6e3",
   "metadata": {},
   "outputs": [],
   "source": [
    "fake_train = np.random.randn(784, 5)\n",
    "fake_W = np.random.randn(10, 784)\n",
    "b = 0\n",
    "fake_Z, fake_cache = linear_forward(fake_train, fake_W, 0)\n",
    "\n",
    "fake_W2 = np.random.randn(20,10)\n",
    "fake_b2 = 0\n",
    "\n",
    "fake_Z2, fake_cache = linear_forward(fake_Z, fake_W2, fake_b2)"
   ]
  },
  {
   "cell_type": "code",
   "execution_count": 65,
   "id": "9d38cd25-333b-4b20-898e-591df0ec746f",
   "metadata": {},
   "outputs": [],
   "source": [
    "def forward_activation(Z, activation):\n",
    "    \"\"\"\n",
    "    @param Z output of linear layer\n",
    "    @param relu or softmax\n",
    "    returns output of activation and Z\n",
    "    \"\"\"\n",
    "    if activation == \"relu\":\n",
    "        A = relu(Z)\n",
    "        return A, Z\n",
    "    if activation == \"softmax\":\n",
    "        A = softmax(Z)\n",
    "        return A, Z"
   ]
  },
  {
   "cell_type": "code",
   "execution_count": 82,
   "id": "21631368-31fe-4b10-9c9e-8c98cdc04a04",
   "metadata": {},
   "outputs": [],
   "source": [
    "def compute_cost(Y_hat, Y):\n",
    "    m = Y.shape[1]\n",
    "    print(m)\n",
    "    return -np.sum(Y * np.log(Y_hat)) / m"
   ]
  },
  {
   "cell_type": "code",
   "execution_count": 67,
   "id": "09129d7e-5f51-4142-b168-33a2a20d9709",
   "metadata": {},
   "outputs": [
    {
     "name": "stdout",
     "output_type": "stream",
     "text": [
      "[[1. 0.]\n",
      " [0. 1.]\n",
      " [0. 0.]\n",
      " [0. 0.]\n",
      " [0. 0.]\n",
      " [0. 0.]\n",
      " [0. 0.]\n",
      " [0. 0.]\n",
      " [0. 0.]\n",
      " [0. 0.]]\n",
      "[[0.04621014 0.11502364]\n",
      " [0.07369277 0.01184268]\n",
      " [0.02460916 0.02877173]\n",
      " [0.06570856 0.46181361]\n",
      " [0.08935576 0.02288577]\n",
      " [0.01483292 0.21319953]\n",
      " [0.09575363 0.03576535]\n",
      " [0.49592079 0.05943528]\n",
      " [0.05901588 0.00851679]\n",
      " [0.03490039 0.04274562]]\n",
      "3.755300853309631\n"
     ]
    }
   ],
   "source": [
    "Y = np.zeros((10,2))\n",
    "Y[0][0] = 1\n",
    "Y[1][1] = 1\n",
    "print(Y)\n",
    "A = softmax(np.array(np.random.randn(10,2)))\n",
    "print(A)\n",
    "print(compute_cost(A, Y))"
   ]
  },
  {
   "cell_type": "code",
   "execution_count": 68,
   "id": "cf6f76f5-e06e-4882-a9db-e1e1fcef3ada",
   "metadata": {},
   "outputs": [],
   "source": [
    "def linear_backward(dZ, cache):\n",
    "    A_prev, W, b = cache\n",
    "    m = A_prev.shape[1]\n",
    "    \n",
    "    dW = np.dot(dZ, A_prev.T) / m\n",
    "    db = np.sum(dZ, axis = 0, keepdims = True) / m\n",
    "    dA_prev = np.dot(W.T, dZ)\n",
    "\n",
    "    return dA_prev, dW, db"
   ]
  },
  {
   "cell_type": "code",
   "execution_count": 69,
   "id": "2455f934-bb04-4f61-8970-2383794a24f6",
   "metadata": {},
   "outputs": [],
   "source": [
    "def relu_activation_backward(dA, Z):\n",
    "    dZ = np.array(dA, copy=True)\n",
    "    dZ[Z <= 0] = 0\n",
    "\n",
    "    return dZ"
   ]
  },
  {
   "cell_type": "code",
   "execution_count": 70,
   "id": "393a9c87-c9ce-44dc-aad6-90b1474d4618",
   "metadata": {},
   "outputs": [],
   "source": [
    "def cross_entropy_softmax_activation_backward(Y_hat, Y):\n",
    "    return Y_hat - Y"
   ]
  },
  {
   "cell_type": "code",
   "execution_count": 71,
   "id": "25bb56d8-6324-4fba-8b1c-bbb91a081837",
   "metadata": {},
   "outputs": [],
   "source": [
    "def update_params(W, b, dW, db, learning_rate):\n",
    "    updated_W = W - dW * learning_rate\n",
    "    updated_b = b - db * learning_rate\n",
    "\n",
    "    return updated_W, updated_b"
   ]
  },
  {
   "cell_type": "code",
   "execution_count": 72,
   "id": "891224aa-e441-484a-a8eb-e49e16195e05",
   "metadata": {},
   "outputs": [
    {
     "name": "stdout",
     "output_type": "stream",
     "text": [
      "(array([[-2.02,  1.98],\n",
      "       [ 2.98,  2.98]]), 0.99)\n"
     ]
    }
   ],
   "source": [
    "update_W = np.array([[-2,2],[3,3]])\n",
    "update_b = 1\n",
    "print(update_params(update_W, update_b, 2, 1, 0.01))"
   ]
  },
  {
   "cell_type": "code",
   "execution_count": 73,
   "id": "9b07a06e-cc3b-4f54-a2e3-f483174aa518",
   "metadata": {},
   "outputs": [],
   "source": [
    "def model_forward(X, params):\n",
    "    \"\"\"\n",
    "    Passes input through layers. Params should account for at least 2 layers.\n",
    "    returns Y_hat, params, and cache for each layer\n",
    "    \"\"\"\n",
    "    if len(params) <= 1:\n",
    "        raise Exception(\"model_forward params should contain at least 2 layers\")\n",
    "    \n",
    "    caches = []\n",
    "\n",
    "    # first layer uses the input X\n",
    "    first_W, first_b = params[0]\n",
    "    Z, forward_cache = linear_forward(X, first_W, first_b)\n",
    "    A, activation_cache = forward_activation(Z, \"relu\")\n",
    "    caches.append((forward_cache, activation_cache))\n",
    "\n",
    "    # all of the middle layers use the previous layers output\n",
    "    for W,b in params[1:-1]:\n",
    "        Z, forward_cache = linear_forward(A, W, b)\n",
    "        A, activation_cache = forward_activation(Z, \"relu\")\n",
    "        caches.append((forward_cache, activation_cache))\n",
    "\n",
    "    # last layer uses the softmax activation function\n",
    "    last_W, last_b = params[-1]\n",
    "    Z, forward_cache = linear_forward(A, last_W, last_b)\n",
    "    A, activation_cache = forward_activation(Z, \"softmax\")\n",
    "    caches.append((forward_cache, activation_cache))\n",
    "\n",
    "    return A, params, caches"
   ]
  },
  {
   "cell_type": "code",
   "execution_count": 74,
   "id": "48a7a096-9913-4d93-985b-db435bf0ec47",
   "metadata": {},
   "outputs": [],
   "source": [
    "def model_backward(Y_hat, Y, params, caches):\n",
    "    \"\"\"\n",
    "    @param Y_hat predicated outputs from forward pass\n",
    "    @param Y true labels\n",
    "    @param params to be updated\n",
    "    @param caches tuple containing forward_cache and activation_cache from forward\n",
    "    \"\"\"\n",
    "    learning_rate = 0.01\n",
    "    \n",
    "    last_linear_cache, last_activation_cache = caches[-1]\n",
    "    dZ = cross_entropy_softmax_activation_backward(Y_hat, Y)\n",
    "    dA_prev, dW, db = linear_backward(dZ, last_linear_cache)\n",
    "    temp_W, temp_b = params[-1]\n",
    "    print(dZ.shape)\n",
    "    params[-1] = update_params(temp_W, temp_b, dW, db, learning_rate)\n",
    "\n",
    "    # don't include the last\n",
    "    params_pointer = len(params) - 2\n",
    "    for linear_cache, activation_cache in reversed(caches[:-1]):\n",
    "        dZ = relu_activation_backward(dA_prev, activation_cache)\n",
    "        dA_prev, dW, db = linear_backward(dZ, linear_cache)\n",
    "        temp_W, temp_b = params[params_pointer]\n",
    "        params[params_pointer] = update_params(temp_W, temp_b, dW, db, learning_rate)\n",
    "\n",
    "    return params"
   ]
  },
  {
   "cell_type": "code",
   "execution_count": 99,
   "id": "070ffe67-f6c7-45f9-995a-d6691e998d6b",
   "metadata": {},
   "outputs": [],
   "source": [
    "dataset = load_dataset('mnist')\n",
    "train_dataset = dataset['train']\n",
    "train_images = []\n",
    "\n",
    "Y = np.zeros((10, 60000))\n",
    "for i, example in enumerate(train_dataset):\n",
    "    train_images.append(np.array(example['image']).flatten())\n",
    "    label = example['label']\n",
    "    Y[label][i] = 1\n",
    "\n",
    "train_images = np.array(train_images).T"
   ]
  },
  {
   "cell_type": "code",
   "execution_count": 101,
   "id": "fab7bd29-4c03-4869-80e2-58f8ec1085f2",
   "metadata": {},
   "outputs": [
    {
     "name": "stdout",
     "output_type": "stream",
     "text": [
      "[0. 0. 0. 0. 0. 1. 0. 0. 0. 0.]\n",
      "5\n"
     ]
    }
   ],
   "source": [
    "print(Y[:,0])\n",
    "print(train_dataset['label'][0])"
   ]
  },
  {
   "cell_type": "code",
   "execution_count": 102,
   "id": "6874c47e-18d1-43ae-807b-2ad81c86f2b2",
   "metadata": {},
   "outputs": [],
   "source": [
    "n_h = 784\n",
    "W1 = np.random.randn(n_h,784) * 0.01\n",
    "b1 = np.zeros((n_h,1))\n",
    "\n",
    "W2 = np.random.randn(10, n_h) * 0.01\n",
    "b2 = np.zeros((10,1))\n",
    "\n",
    "params = [(W1, b1), (W2, b2)]"
   ]
  },
  {
   "cell_type": "code",
   "execution_count": null,
   "id": "b2f9cb6b-32b1-4686-8ce9-7004a805b2db",
   "metadata": {},
   "outputs": [
    {
     "name": "stdout",
     "output_type": "stream",
     "text": [
      "60000\n",
      "7.630199988730435\n",
      "(10, 60000)\n",
      "60000\n",
      "nan\n"
     ]
    },
    {
     "name": "stderr",
     "output_type": "stream",
     "text": [
      "/var/folders/ps/l6hwm82n7z325bgljrdp33qr0000gn/T/ipykernel_62995/1766288297.py:4: RuntimeWarning: divide by zero encountered in log\n",
      "  return -np.sum(Y * np.log(Y_hat)) / m\n",
      "/var/folders/ps/l6hwm82n7z325bgljrdp33qr0000gn/T/ipykernel_62995/1766288297.py:4: RuntimeWarning: invalid value encountered in multiply\n",
      "  return -np.sum(Y * np.log(Y_hat)) / m\n"
     ]
    },
    {
     "name": "stdout",
     "output_type": "stream",
     "text": [
      "(10, 60000)\n",
      "60000\n",
      "nan\n",
      "(10, 60000)\n"
     ]
    }
   ],
   "source": [
    "for i in range(5):\n",
    "    Y_hat, params, caches = model_forward(train_images, params) \n",
    "    print(compute_cost(Y_hat, Y))\n",
    "    model_backward(Y_hat, Y, params, caches)\n",
    "    if i == 4:\n",
    "        print(Y[:,0])\n",
    "        print(Y_hat[:,0])"
   ]
  }
 ],
 "metadata": {
  "kernelspec": {
   "display_name": "Python 3 (ipykernel)",
   "language": "python",
   "name": "python3"
  },
  "language_info": {
   "codemirror_mode": {
    "name": "ipython",
    "version": 3
   },
   "file_extension": ".py",
   "mimetype": "text/x-python",
   "name": "python",
   "nbconvert_exporter": "python",
   "pygments_lexer": "ipython3",
   "version": "3.9.6"
  }
 },
 "nbformat": 4,
 "nbformat_minor": 5
}
