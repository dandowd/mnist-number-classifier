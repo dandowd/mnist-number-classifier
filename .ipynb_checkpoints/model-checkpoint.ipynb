{
 "cells": [
  {
   "cell_type": "code",
   "execution_count": 2,
   "id": "1a6de60f-dc10-4bd3-a433-9467f6dc1764",
   "metadata": {},
   "outputs": [],
   "source": [
    "#!pip install numpy datasets Pillow"
   ]
  },
  {
   "cell_type": "code",
   "execution_count": 3,
   "id": "5cd2a369-8421-4ed9-80b6-2fd2e067c93f",
   "metadata": {},
   "outputs": [
    {
     "name": "stderr",
     "output_type": "stream",
     "text": [
      "/Users/danieldowd/Library/Python/3.9/lib/python/site-packages/urllib3/__init__.py:35: NotOpenSSLWarning: urllib3 v2 only supports OpenSSL 1.1.1+, currently the 'ssl' module is compiled with 'LibreSSL 2.8.3'. See: https://github.com/urllib3/urllib3/issues/3020\n",
      "  warnings.warn(\n",
      "/Users/danieldowd/Library/Python/3.9/lib/python/site-packages/tqdm/auto.py:21: TqdmWarning: IProgress not found. Please update jupyter and ipywidgets. See https://ipywidgets.readthedocs.io/en/stable/user_install.html\n",
      "  from .autonotebook import tqdm as notebook_tqdm\n"
     ]
    }
   ],
   "source": [
    "import numpy as np\n",
    "from datasets import load_dataset\n",
    "import math\n",
    "import PIL.Image as Image"
   ]
  },
  {
   "cell_type": "code",
   "execution_count": 4,
   "id": "ced955e3-9252-4b2c-acaa-3f78f72af82b",
   "metadata": {},
   "outputs": [],
   "source": [
    "def relu(Z):\n",
    "    return np.maximum(0,Z)"
   ]
  },
  {
   "cell_type": "code",
   "execution_count": 5,
   "id": "7aeec8f9-1f6a-4084-8dee-1224e50cda37",
   "metadata": {},
   "outputs": [
    {
     "name": "stdout",
     "output_type": "stream",
     "text": [
      "[[0.937116   0.47780433]\n",
      " [0.97468063 0.2416996 ]\n",
      " [0.13901059 0.36441213]\n",
      " [0.0834418  0.90643079]\n",
      " [0.68140029 0.91512293]\n",
      " [0.32823982 0.42770444]\n",
      " [0.72103609 0.26227339]\n",
      " [0.5652994  0.07028255]\n",
      " [0.54161478 0.459428  ]\n",
      " [0.4881677  0.33040054]]\n"
     ]
    }
   ],
   "source": [
    "Z = np.random.rand(10,2)\n",
    "print(relu(Z))"
   ]
  },
  {
   "cell_type": "code",
   "execution_count": 6,
   "id": "997cbea3-af78-4092-8b51-c88140a77f23",
   "metadata": {},
   "outputs": [],
   "source": [
    "def softmax(Z):\n",
    "    exps = np.exp(Z - np.max(Z))\n",
    "    sum = np.sum(exps, axis=0, keepdims=True)\n",
    "    return exps / sum"
   ]
  },
  {
   "cell_type": "code",
   "execution_count": 7,
   "id": "775f6062-82c9-43ce-815d-9d49c69b6e3b",
   "metadata": {},
   "outputs": [
    {
     "name": "stdout",
     "output_type": "stream",
     "text": [
      "1.9999999999999996\n"
     ]
    }
   ],
   "source": [
    "A = softmax(np.random.randn(10,2))\n",
    "print(np.sum(A))\n",
    "# using math.isclose because of floating point errors\n",
    "assert math.isclose(2, np.sum(A))"
   ]
  },
  {
   "cell_type": "code",
   "execution_count": 8,
   "id": "fff234f6-b421-4fae-934f-f267e0988038",
   "metadata": {},
   "outputs": [],
   "source": [
    "def linear_forward(A_prev, W, b):\n",
    "    Z = np.dot(W, A_prev) + b\n",
    "    cache = (A_prev, W, b)\n",
    "\n",
    "    return Z, cache"
   ]
  },
  {
   "cell_type": "code",
   "execution_count": 39,
   "id": "60c38c7e-f0ac-4c56-a46a-eaaf90d8f6e3",
   "metadata": {},
   "outputs": [],
   "source": [
    "fake_train = np.random.randn(784, 5)\n",
    "fake_W = np.random.randn(10, 784)\n",
    "b = 0\n",
    "fake_Z, fake_cache = linear_forward(fake_train, fake_W, 0)\n",
    "\n",
    "fake_W2 = np.random.randn(20,10)\n",
    "fake_b2 = 0\n",
    "\n",
    "fake_Z2, fake_cache = linear_forward(fake_Z, fake_W2, fake_b2)"
   ]
  },
  {
   "cell_type": "code",
   "execution_count": 40,
   "id": "9d38cd25-333b-4b20-898e-591df0ec746f",
   "metadata": {},
   "outputs": [],
   "source": [
    "def forward_activation(Z, activation):\n",
    "    if activation == \"relu\":\n",
    "        A = relu(Z)\n",
    "        return A, Z\n",
    "    if activation == \"softmax\":\n",
    "        A = softmax(Z)\n",
    "        return A, Z"
   ]
  },
  {
   "cell_type": "code",
   "execution_count": 41,
   "id": "21631368-31fe-4b10-9c9e-8c98cdc04a04",
   "metadata": {},
   "outputs": [],
   "source": [
    "def compute_cost(A, Y):\n",
    "    m = Y.shape[1]\n",
    "    return -np.sum(Y * np.log(A)) / m"
   ]
  },
  {
   "cell_type": "code",
   "execution_count": 42,
   "id": "09129d7e-5f51-4142-b168-33a2a20d9709",
   "metadata": {},
   "outputs": [
    {
     "name": "stdout",
     "output_type": "stream",
     "text": [
      "[[1. 0.]\n",
      " [0. 1.]\n",
      " [0. 0.]\n",
      " [0. 0.]\n",
      " [0. 0.]\n",
      " [0. 0.]\n",
      " [0. 0.]\n",
      " [0. 0.]\n",
      " [0. 0.]\n",
      " [0. 0.]]\n",
      "[[0.32598639 0.09907379]\n",
      " [0.09126729 0.12823868]\n",
      " [0.10596463 0.14511197]\n",
      " [0.06816549 0.08458995]\n",
      " [0.01670704 0.29026963]\n",
      " [0.11008453 0.17050867]\n",
      " [0.07835719 0.0164674 ]\n",
      " [0.13058747 0.01262707]\n",
      " [0.03398516 0.01597294]\n",
      " [0.03889481 0.0371399 ]]\n",
      "1.5873808350873695\n"
     ]
    }
   ],
   "source": [
    "Y = np.zeros((10,2))\n",
    "Y[0][0] = 1\n",
    "Y[1][1] = 1\n",
    "print(Y)\n",
    "A = softmax(np.array(np.random.randn(10,2)))\n",
    "print(A)\n",
    "print(compute_cost(A, Y))"
   ]
  },
  {
   "cell_type": "code",
   "execution_count": 13,
   "id": "cf6f76f5-e06e-4882-a9db-e1e1fcef3ada",
   "metadata": {},
   "outputs": [],
   "source": [
    "def linear_backward(dZ, cache):\n",
    "    A_prev, W, b = cache\n",
    "    m = A_prev.shape[1]\n",
    "    \n",
    "    dW = np.dot(dZ, A_prev.T) / m\n",
    "    db = np.sum(dZ, axis = 0, keepdims = True) / m\n",
    "    dA_prev = np.dot(W.T, dZ)\n",
    "\n",
    "    return dW, db, dA_prev"
   ]
  },
  {
   "cell_type": "code",
   "execution_count": 14,
   "id": "2455f934-bb04-4f61-8970-2383794a24f6",
   "metadata": {},
   "outputs": [],
   "source": [
    "def relu_activation_backward(Z):\n",
    "    grad = np.zeros_like(Z)\n",
    "    grad[Z > 0] = 1\n",
    "\n",
    "    return grad"
   ]
  },
  {
   "cell_type": "code",
   "execution_count": 15,
   "id": "772ec300-be70-4fbb-b301-cb00d3f3489b",
   "metadata": {},
   "outputs": [
    {
     "name": "stdout",
     "output_type": "stream",
     "text": [
      "[[-1.70632903  0.33819933]\n",
      " [ 1.14691521 -1.48115663]\n",
      " [-0.99449234 -0.0722806 ]\n",
      " [ 1.38766455 -0.35198183]\n",
      " [ 0.98944235 -0.53754047]\n",
      " [-0.57653467  0.65965233]\n",
      " [-0.10858695  0.08211944]\n",
      " [-0.14262915 -2.11618676]\n",
      " [-0.3604113   1.02989566]\n",
      " [-0.29653028  0.40668129]]\n",
      "[[0. 1.]\n",
      " [1. 0.]\n",
      " [0. 0.]\n",
      " [1. 0.]\n",
      " [1. 0.]\n",
      " [0. 1.]\n",
      " [0. 1.]\n",
      " [0. 0.]\n",
      " [0. 1.]\n",
      " [0. 1.]]\n"
     ]
    }
   ],
   "source": [
    "Z = np.random.randn(10,2)\n",
    "print(Z)\n",
    "print(relu_activation_backward(Z))"
   ]
  },
  {
   "cell_type": "code",
   "execution_count": 16,
   "id": "393a9c87-c9ce-44dc-aad6-90b1474d4618",
   "metadata": {},
   "outputs": [],
   "source": [
    "def softmax_activation_backward(Y_hat, Y):\n",
    "    return Y_hat - Y"
   ]
  },
  {
   "cell_type": "code",
   "execution_count": 17,
   "id": "25bb56d8-6324-4fba-8b1c-bbb91a081837",
   "metadata": {},
   "outputs": [],
   "source": [
    "def update_params(W, b, grads, learning_rate):\n",
    "    dW, db = grads\n",
    "\n",
    "    updated_W = W - dW * learning_rate\n",
    "    updated_b = b - db * learning_rate\n",
    "\n",
    "    return updated_W, updated_b"
   ]
  },
  {
   "cell_type": "code",
   "execution_count": 29,
   "id": "891224aa-e441-484a-a8eb-e49e16195e05",
   "metadata": {},
   "outputs": [
    {
     "name": "stdout",
     "output_type": "stream",
     "text": [
      "(array([[-2.02,  1.98],\n",
      "       [ 2.98,  2.98]]), 0.99)\n"
     ]
    }
   ],
   "source": [
    "update_W = np.array([[-2,2],[3,3]])\n",
    "update_b = 1\n",
    "print(update_params(update_W, update_b, (2, 1), 0.01))"
   ]
  },
  {
   "cell_type": "code",
   "execution_count": 18,
   "id": "070ffe67-f6c7-45f9-995a-d6691e998d6b",
   "metadata": {},
   "outputs": [],
   "source": [
    "dataset = load_dataset('mnist')\n",
    "train_dataset = dataset['train']\n",
    "train_images = []\n",
    "\n",
    "Y = np.zeros((10, 60000))\n",
    "for i, example in enumerate(train_dataset):\n",
    "    train_images.append(np.array(example['image']).flatten())\n",
    "    label = example['label']\n",
    "    Y[label][i-1] = 1\n",
    "\n",
    "train_images = np.array(train_images).T"
   ]
  },
  {
   "cell_type": "code",
   "execution_count": 35,
   "id": "6874c47e-18d1-43ae-807b-2ad81c86f2b2",
   "metadata": {},
   "outputs": [],
   "source": [
    "n_h = 784\n",
    "W1 = np.random.randn(n_h,784) * 0.01\n",
    "b1 = np.zeros((n_h,1))\n",
    "\n",
    "W2 = np.random.randn(10, n_h) * 0.01\n",
    "b2 = np.zeros((10,1))"
   ]
  },
  {
   "cell_type": "code",
   "execution_count": 1,
   "id": "3a973bee-2649-48ff-8b0d-0d476d98cda8",
   "metadata": {},
   "outputs": [],
   "source": [
    "#print(W1[:,0])"
   ]
  },
  {
   "cell_type": "code",
   "execution_count": 43,
   "id": "9d53fbff-69f7-4d2e-95bd-2392c6a37376",
   "metadata": {},
   "outputs": [
    {
     "name": "stdout",
     "output_type": "stream",
     "text": [
      "[0.1 0.1 0.1 0.1 0.1 0.1 0.1 0.1 0.1 0.1]\n"
     ]
    },
    {
     "ename": "ValueError",
     "evalue": "operands could not be broadcast together with shapes (10,2) (10,60000) ",
     "output_type": "error",
     "traceback": [
      "\u001b[0;31m---------------------------------------------------------------------------\u001b[0m",
      "\u001b[0;31mValueError\u001b[0m                                Traceback (most recent call last)",
      "Cell \u001b[0;32mIn[43], line 9\u001b[0m\n\u001b[1;32m      7\u001b[0m \u001b[38;5;28mprint\u001b[39m(Y_hat[:,\u001b[38;5;241m0\u001b[39m])\n\u001b[1;32m      8\u001b[0m \u001b[38;5;28;01mif\u001b[39;00m i \u001b[38;5;241m%\u001b[39m \u001b[38;5;241m10\u001b[39m \u001b[38;5;241m==\u001b[39m \u001b[38;5;241m0\u001b[39m:\n\u001b[0;32m----> 9\u001b[0m     \u001b[38;5;28mprint\u001b[39m(\u001b[43mcompute_cost\u001b[49m\u001b[43m(\u001b[49m\u001b[43mY_hat\u001b[49m\u001b[43m,\u001b[49m\u001b[43m \u001b[49m\u001b[43mY\u001b[49m\u001b[43m)\u001b[49m)\n\u001b[1;32m     11\u001b[0m \u001b[38;5;66;03m# back propagation\u001b[39;00m\n\u001b[1;32m     12\u001b[0m dZ2 \u001b[38;5;241m=\u001b[39m softmax_activation_backward(Y_hat, Y)\n",
      "Cell \u001b[0;32mIn[41], line 3\u001b[0m, in \u001b[0;36mcompute_cost\u001b[0;34m(A, Y)\u001b[0m\n\u001b[1;32m      1\u001b[0m \u001b[38;5;28;01mdef\u001b[39;00m \u001b[38;5;21mcompute_cost\u001b[39m(A, Y):\n\u001b[1;32m      2\u001b[0m     m \u001b[38;5;241m=\u001b[39m Y\u001b[38;5;241m.\u001b[39mshape[\u001b[38;5;241m1\u001b[39m]\n\u001b[0;32m----> 3\u001b[0m     \u001b[38;5;28;01mreturn\u001b[39;00m \u001b[38;5;241m-\u001b[39mnp\u001b[38;5;241m.\u001b[39msum(\u001b[43mY\u001b[49m\u001b[43m \u001b[49m\u001b[38;5;241;43m*\u001b[39;49m\u001b[43m \u001b[49m\u001b[43mnp\u001b[49m\u001b[38;5;241;43m.\u001b[39;49m\u001b[43mlog\u001b[49m\u001b[43m(\u001b[49m\u001b[43mA\u001b[49m\u001b[43m)\u001b[49m) \u001b[38;5;241m/\u001b[39m m\n",
      "\u001b[0;31mValueError\u001b[0m: operands could not be broadcast together with shapes (10,2) (10,60000) "
     ]
    }
   ],
   "source": [
    "for i in range(100):\n",
    "    Z1, cache1 = linear_forward(train_images, W1, b1)\n",
    "    A1, activation_cache1 = forward_activation(Z1, \"relu\")\n",
    "    \n",
    "    Z2, cache2 = linear_forward(A1, W2, b2)\n",
    "    Y_hat, activation_cache2 = forward_activation(Z2, \"softmax\")\n",
    "\n",
    "    if i % 10 == 0:\n",
    "        print(compute_cost(Y_hat, Y))\n",
    "\n",
    "    # back prop\n",
    "    dZ2 = softmax_activation_backward(Y_hat, Y)\n",
    "    dW2, db2, dA_prev = linear_backward(dZ2, cache2)\n",
    "    \n",
    "    dZ1 = relu_activation_backward(dA_prev)\n",
    "    dW1, db1, dA_prev = linear_backward(dZ1, cache1)\n",
    "\n",
    "    learning_rate = 0.1\n",
    "    W2, b2 = update_params(W2, b2, (dW2, db2), learning_rate)\n",
    "    W1, b1 = update_params(W1, b1, (dW1, db1), learning_rate)"
   ]
  },
  {
   "cell_type": "code",
   "execution_count": 38,
   "id": "3d618129-ab3e-47e3-a0ed-871c97588c18",
   "metadata": {},
   "outputs": [
    {
     "name": "stdout",
     "output_type": "stream",
     "text": [
      "[0.1 0.1 0.1 0.1 0.1 0.1 0.1 0.1 0.1 0.1]\n",
      "[[-0.01547446 -0.02148361 -0.01285288 ... -0.00489947 -0.0067364\n",
      "  -0.00313343]\n",
      " [ 0.01113908 -0.00750254  0.00646999 ... -0.00476036 -0.00960414\n",
      "  -0.00348149]\n",
      " [ 0.00192891  0.01259681  0.00373571 ... -0.00351112 -0.01162191\n",
      "   0.01828954]\n",
      " ...\n",
      " [-0.02846834 -0.00248466  0.01407171 ...  0.00983741 -0.01320366\n",
      "   0.00492162]\n",
      " [ 0.00381576  0.01674401  0.01547204 ...  0.00131335  0.00327611\n",
      "   0.00182039]\n",
      " [-0.00538691 -0.0029411   0.01474322 ...  0.00855426 -0.00564906\n",
      "   0.02036078]]\n"
     ]
    }
   ],
   "source": [
    "Z1, cache1 = linear_forward(train_images, W1, b1)\n",
    "A1, activation_cache1 = forward_activation(Z1, \"relu\")\n",
    "\n",
    "Z2, cache2 = linear_forward(A1, W2, b2)\n",
    "Y_hat, activation_cache2 = forward_activation(Z2, \"softmax\")\n",
    "print(Y_hat[:,20])\n",
    "print(W1)"
   ]
  }
 ],
 "metadata": {
  "kernelspec": {
   "display_name": "Python 3 (ipykernel)",
   "language": "python",
   "name": "python3"
  },
  "language_info": {
   "codemirror_mode": {
    "name": "ipython",
    "version": 3
   },
   "file_extension": ".py",
   "mimetype": "text/x-python",
   "name": "python",
   "nbconvert_exporter": "python",
   "pygments_lexer": "ipython3",
   "version": "3.9.6"
  }
 },
 "nbformat": 4,
 "nbformat_minor": 5
}
