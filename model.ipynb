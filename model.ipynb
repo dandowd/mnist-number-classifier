{
 "cells": [
  {
   "cell_type": "code",
   "execution_count": 200,
   "id": "1a6de60f-dc10-4bd3-a433-9467f6dc1764",
   "metadata": {},
   "outputs": [
    {
     "name": "stdout",
     "output_type": "stream",
     "text": [
      "Requirement already satisfied: numpy in /Library/Frameworks/Python.framework/Versions/3.12/lib/python3.12/site-packages (1.26.4)\n",
      "Requirement already satisfied: datasets in /Library/Frameworks/Python.framework/Versions/3.12/lib/python3.12/site-packages (2.18.0)\n",
      "Requirement already satisfied: filelock in /Library/Frameworks/Python.framework/Versions/3.12/lib/python3.12/site-packages (from datasets) (3.13.1)\n",
      "Requirement already satisfied: pyarrow>=12.0.0 in /Library/Frameworks/Python.framework/Versions/3.12/lib/python3.12/site-packages (from datasets) (15.0.0)\n",
      "Requirement already satisfied: pyarrow-hotfix in /Library/Frameworks/Python.framework/Versions/3.12/lib/python3.12/site-packages (from datasets) (0.6)\n",
      "Requirement already satisfied: dill<0.3.9,>=0.3.0 in /Library/Frameworks/Python.framework/Versions/3.12/lib/python3.12/site-packages (from datasets) (0.3.8)\n",
      "Requirement already satisfied: pandas in /Library/Frameworks/Python.framework/Versions/3.12/lib/python3.12/site-packages (from datasets) (2.2.1)\n",
      "Requirement already satisfied: requests>=2.19.0 in /Library/Frameworks/Python.framework/Versions/3.12/lib/python3.12/site-packages (from datasets) (2.31.0)\n",
      "Requirement already satisfied: tqdm>=4.62.1 in /Library/Frameworks/Python.framework/Versions/3.12/lib/python3.12/site-packages (from datasets) (4.66.2)\n",
      "Requirement already satisfied: xxhash in /Library/Frameworks/Python.framework/Versions/3.12/lib/python3.12/site-packages (from datasets) (3.4.1)\n",
      "Requirement already satisfied: multiprocess in /Library/Frameworks/Python.framework/Versions/3.12/lib/python3.12/site-packages (from datasets) (0.70.16)\n",
      "Requirement already satisfied: fsspec<=2024.2.0,>=2023.1.0 in /Library/Frameworks/Python.framework/Versions/3.12/lib/python3.12/site-packages (from fsspec[http]<=2024.2.0,>=2023.1.0->datasets) (2024.2.0)\n",
      "Requirement already satisfied: aiohttp in /Library/Frameworks/Python.framework/Versions/3.12/lib/python3.12/site-packages (from datasets) (3.9.3)\n",
      "Requirement already satisfied: huggingface-hub>=0.19.4 in /Library/Frameworks/Python.framework/Versions/3.12/lib/python3.12/site-packages (from datasets) (0.21.2)\n",
      "Requirement already satisfied: packaging in /Library/Frameworks/Python.framework/Versions/3.12/lib/python3.12/site-packages (from datasets) (23.2)\n",
      "Requirement already satisfied: pyyaml>=5.1 in /Library/Frameworks/Python.framework/Versions/3.12/lib/python3.12/site-packages (from datasets) (6.0.1)\n",
      "Requirement already satisfied: aiosignal>=1.1.2 in /Library/Frameworks/Python.framework/Versions/3.12/lib/python3.12/site-packages (from aiohttp->datasets) (1.3.1)\n",
      "Requirement already satisfied: attrs>=17.3.0 in /Library/Frameworks/Python.framework/Versions/3.12/lib/python3.12/site-packages (from aiohttp->datasets) (23.2.0)\n",
      "Requirement already satisfied: frozenlist>=1.1.1 in /Library/Frameworks/Python.framework/Versions/3.12/lib/python3.12/site-packages (from aiohttp->datasets) (1.4.1)\n",
      "Requirement already satisfied: multidict<7.0,>=4.5 in /Library/Frameworks/Python.framework/Versions/3.12/lib/python3.12/site-packages (from aiohttp->datasets) (6.0.5)\n",
      "Requirement already satisfied: yarl<2.0,>=1.0 in /Library/Frameworks/Python.framework/Versions/3.12/lib/python3.12/site-packages (from aiohttp->datasets) (1.9.4)\n",
      "Requirement already satisfied: typing-extensions>=3.7.4.3 in /Library/Frameworks/Python.framework/Versions/3.12/lib/python3.12/site-packages (from huggingface-hub>=0.19.4->datasets) (4.10.0)\n",
      "Requirement already satisfied: charset-normalizer<4,>=2 in /Library/Frameworks/Python.framework/Versions/3.12/lib/python3.12/site-packages (from requests>=2.19.0->datasets) (3.3.2)\n",
      "Requirement already satisfied: idna<4,>=2.5 in /Library/Frameworks/Python.framework/Versions/3.12/lib/python3.12/site-packages (from requests>=2.19.0->datasets) (3.6)\n",
      "Requirement already satisfied: urllib3<3,>=1.21.1 in /Library/Frameworks/Python.framework/Versions/3.12/lib/python3.12/site-packages (from requests>=2.19.0->datasets) (2.2.1)\n",
      "Requirement already satisfied: certifi>=2017.4.17 in /Library/Frameworks/Python.framework/Versions/3.12/lib/python3.12/site-packages (from requests>=2.19.0->datasets) (2024.2.2)\n",
      "Requirement already satisfied: python-dateutil>=2.8.2 in /Library/Frameworks/Python.framework/Versions/3.12/lib/python3.12/site-packages (from pandas->datasets) (2.8.2)\n",
      "Requirement already satisfied: pytz>=2020.1 in /Library/Frameworks/Python.framework/Versions/3.12/lib/python3.12/site-packages (from pandas->datasets) (2024.1)\n",
      "Requirement already satisfied: tzdata>=2022.7 in /Library/Frameworks/Python.framework/Versions/3.12/lib/python3.12/site-packages (from pandas->datasets) (2024.1)\n",
      "Requirement already satisfied: six>=1.5 in /Library/Frameworks/Python.framework/Versions/3.12/lib/python3.12/site-packages (from python-dateutil>=2.8.2->pandas->datasets) (1.16.0)\n"
     ]
    }
   ],
   "source": [
    "!pip install numpy datasets"
   ]
  },
  {
   "cell_type": "code",
   "execution_count": 228,
   "id": "5cd2a369-8421-4ed9-80b6-2fd2e067c93f",
   "metadata": {},
   "outputs": [],
   "source": [
    "import numpy as np\n",
    "from datasets import load_dataset\n",
    "import math\n",
    "import PIL.Image as Image"
   ]
  },
  {
   "cell_type": "code",
   "execution_count": 6,
   "id": "ced955e3-9252-4b2c-acaa-3f78f72af82b",
   "metadata": {},
   "outputs": [],
   "source": [
    "def relu(Z):\n",
    "    return np.max(0,Z)"
   ]
  },
  {
   "cell_type": "code",
   "execution_count": 259,
   "id": "997cbea3-af78-4092-8b51-c88140a77f23",
   "metadata": {},
   "outputs": [],
   "source": [
    "def softmax(Z):\n",
    "    exps = np.exp(Z - np.max(Z))\n",
    "    sum = np.sum(exps, axis=0, keepdims=True)\n",
    "    return exps / sum"
   ]
  },
  {
   "cell_type": "code",
   "execution_count": 260,
   "id": "775f6062-82c9-43ce-815d-9d49c69b6e3b",
   "metadata": {},
   "outputs": [
    {
     "name": "stdout",
     "output_type": "stream",
     "text": [
      "2.0000000000000004\n"
     ]
    }
   ],
   "source": [
    "A = softmax(np.random.randn(10,2))\n",
    "print(np.sum(A))\n",
    "# using math.isclose because of floating point errors\n",
    "assert math.isclose(2, np.sum(A))"
   ]
  },
  {
   "cell_type": "code",
   "execution_count": 206,
   "id": "fff234f6-b421-4fae-934f-f267e0988038",
   "metadata": {},
   "outputs": [],
   "source": [
    "def linear_forward(A_prev, W, b):\n",
    "    Z = np.dot(W, A_prev) + b\n",
    "    cache = (A_prev, W, b)\n",
    "\n",
    "    return Z, cache"
   ]
  },
  {
   "cell_type": "code",
   "execution_count": 7,
   "id": "9d38cd25-333b-4b20-898e-591df0ec746f",
   "metadata": {},
   "outputs": [],
   "source": [
    "def forward_activation(Z, activation):\n",
    "    if activation == \"relu\":\n",
    "        A = relu(Z)\n",
    "        return A, Z\n",
    "    if activation == \"softmax\":\n",
    "        A = softmax(Z)\n",
    "        return A, Z"
   ]
  },
  {
   "cell_type": "code",
   "execution_count": 203,
   "id": "21631368-31fe-4b10-9c9e-8c98cdc04a04",
   "metadata": {},
   "outputs": [],
   "source": [
    "def compute_cost(A, Y, m):\n",
    "    return -np.sum(Y * np.log(A))/m"
   ]
  },
  {
   "cell_type": "code",
   "execution_count": 262,
   "id": "09129d7e-5f51-4142-b168-33a2a20d9709",
   "metadata": {},
   "outputs": [
    {
     "name": "stdout",
     "output_type": "stream",
     "text": [
      "[[1. 0.]\n",
      " [0. 1.]\n",
      " [0. 0.]\n",
      " [0. 0.]\n",
      " [0. 0.]\n",
      " [0. 0.]\n",
      " [0. 0.]\n",
      " [0. 0.]\n",
      " [0. 0.]\n",
      " [0. 0.]]\n",
      "[[0.08943704 0.13513204]\n",
      " [0.07254956 0.09116356]\n",
      " [0.37362549 0.10807862]\n",
      " [0.10479987 0.08596945]\n",
      " [0.07538426 0.06104204]\n",
      " [0.00954156 0.05769868]\n",
      " [0.07634918 0.16520432]\n",
      " [0.13501739 0.11714793]\n",
      " [0.02936771 0.09566227]\n",
      " [0.03392796 0.08290109]]\n",
      "2.4046602078576287\n"
     ]
    }
   ],
   "source": [
    "Y = np.zeros((10,2))\n",
    "Y[0][0] = 1\n",
    "Y[1][1] = 1\n",
    "print(Y)\n",
    "A = softmax(np.array(np.random.randn(10,2)))\n",
    "print(A)\n",
    "print(compute_cost(A, Y, 2))"
   ]
  },
  {
   "cell_type": "code",
   "execution_count": 249,
   "id": "cf6f76f5-e06e-4882-a9db-e1e1fcef3ada",
   "metadata": {},
   "outputs": [],
   "source": [
    "def linear_backward(dZ, cache):\n",
    "    A_prev, W, b = cache\n",
    "    m = A_prev.shape[1]\n",
    "    \n",
    "    dW = np.dot(W, A_prev.T) / m\n",
    "    db = np.sum(dZ, axis = 0, keepdims = True) / m\n",
    "    dA_prev = np.dot(W.T, dZ)\n",
    "\n",
    "    return dW, db, dA_prev"
   ]
  },
  {
   "cell_type": "code",
   "execution_count": 216,
   "id": "2455f934-bb04-4f61-8970-2383794a24f6",
   "metadata": {},
   "outputs": [],
   "source": [
    "def relu_activation_backward(Z):\n",
    "    grad = np.zeros_like(Z)\n",
    "    grad[Z > 0] = 1\n",
    "\n",
    "    return grad"
   ]
  },
  {
   "cell_type": "code",
   "execution_count": 250,
   "id": "772ec300-be70-4fbb-b301-cb00d3f3489b",
   "metadata": {},
   "outputs": [
    {
     "name": "stdout",
     "output_type": "stream",
     "text": [
      "[[ 0.53912934 -1.50990938]\n",
      " [ 0.2898538  -0.50601689]\n",
      " [-0.46231117  0.91124587]\n",
      " [ 0.03983663 -0.99073278]\n",
      " [-0.15204389  1.06318523]\n",
      " [-0.221117    1.20075688]\n",
      " [ 0.87472124 -1.76064672]\n",
      " [-0.51140411  1.81999754]\n",
      " [-0.18035394 -1.26079972]\n",
      " [-0.50956385 -0.04391935]]\n",
      "[[1. 0.]\n",
      " [1. 0.]\n",
      " [0. 1.]\n",
      " [1. 0.]\n",
      " [0. 1.]\n",
      " [0. 1.]\n",
      " [1. 0.]\n",
      " [0. 1.]\n",
      " [0. 0.]\n",
      " [0. 0.]]\n"
     ]
    }
   ],
   "source": [
    "Z = np.random.randn(10,2)\n",
    "print(Z)\n",
    "print(relu_activation_backward(Z))"
   ]
  },
  {
   "cell_type": "code",
   "execution_count": 223,
   "id": "393a9c87-c9ce-44dc-aad6-90b1474d4618",
   "metadata": {},
   "outputs": [],
   "source": [
    "def softmax_activation_backward(Y_hat, Y):\n",
    "    return Y_hat - Y"
   ]
  },
  {
   "cell_type": "code",
   "execution_count": 224,
   "id": "25bb56d8-6324-4fba-8b1c-bbb91a081837",
   "metadata": {},
   "outputs": [],
   "source": [
    "def update_params(W, b, grads, learning_rate):\n",
    "    dW, db = grads\n",
    "    W = W - dW * learning_rate\n",
    "    b = b - db * learning_rate\n",
    "    "
   ]
  },
  {
   "cell_type": "code",
   "execution_count": 273,
   "id": "070ffe67-f6c7-45f9-995a-d6691e998d6b",
   "metadata": {},
   "outputs": [],
   "source": [
    "n_h = 10\n",
    "W1 = np.random.randn(n_h,784) * 0.01\n",
    "b1 = np.zeros((n_h,1))\n",
    "\n",
    "dataset = load_dataset('mnist')\n",
    "train_dataset = dataset['train']\n",
    "train_images = []\n",
    "\n",
    "Y = np.zeros((10, 60000))\n",
    "for i, example in enumerate(train_dataset):\n",
    "    train_images.append(np.array(example['image']).flatten())\n",
    "    label = example['label']\n",
    "    Y[label][i] = 1"
   ]
  },
  {
   "cell_type": "code",
   "execution_count": null,
   "id": "6874c47e-18d1-43ae-807b-2ad81c86f2b2",
   "metadata": {},
   "outputs": [],
   "source": []
  }
 ],
 "metadata": {
  "kernelspec": {
   "display_name": "Python 3 (ipykernel)",
   "language": "python",
   "name": "python3"
  },
  "language_info": {
   "codemirror_mode": {
    "name": "ipython",
    "version": 3
   },
   "file_extension": ".py",
   "mimetype": "text/x-python",
   "name": "python",
   "nbconvert_exporter": "python",
   "pygments_lexer": "ipython3",
   "version": "3.9.6"
  }
 },
 "nbformat": 4,
 "nbformat_minor": 5
}
