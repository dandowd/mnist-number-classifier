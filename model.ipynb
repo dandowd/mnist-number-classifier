{
 "cells": [
  {
   "cell_type": "code",
   "execution_count": 1,
   "id": "1a6de60f-dc10-4bd3-a433-9467f6dc1764",
   "metadata": {},
   "outputs": [],
   "source": [
    "#!pip install numpy datasets Pillow"
   ]
  },
  {
   "cell_type": "code",
   "execution_count": 2,
   "id": "5cd2a369-8421-4ed9-80b6-2fd2e067c93f",
   "metadata": {},
   "outputs": [
    {
     "name": "stderr",
     "output_type": "stream",
     "text": [
      "/Users/danieldowd/Library/Python/3.9/lib/python/site-packages/urllib3/__init__.py:35: NotOpenSSLWarning: urllib3 v2 only supports OpenSSL 1.1.1+, currently the 'ssl' module is compiled with 'LibreSSL 2.8.3'. See: https://github.com/urllib3/urllib3/issues/3020\n",
      "  warnings.warn(\n",
      "/Users/danieldowd/Library/Python/3.9/lib/python/site-packages/tqdm/auto.py:21: TqdmWarning: IProgress not found. Please update jupyter and ipywidgets. See https://ipywidgets.readthedocs.io/en/stable/user_install.html\n",
      "  from .autonotebook import tqdm as notebook_tqdm\n"
     ]
    }
   ],
   "source": [
    "import numpy as np\n",
    "from datasets import load_dataset\n",
    "import math\n",
    "import PIL.Image as Image"
   ]
  },
  {
   "cell_type": "code",
   "execution_count": 3,
   "id": "ced955e3-9252-4b2c-acaa-3f78f72af82b",
   "metadata": {},
   "outputs": [],
   "source": [
    "def relu(Z):\n",
    "    return np.maximum(0,Z)"
   ]
  },
  {
   "cell_type": "code",
   "execution_count": 4,
   "id": "7aeec8f9-1f6a-4084-8dee-1224e50cda37",
   "metadata": {},
   "outputs": [
    {
     "name": "stdout",
     "output_type": "stream",
     "text": [
      "[[0.28347142 0.65338154]\n",
      " [0.99725726 0.67745403]\n",
      " [0.07005719 0.85323463]\n",
      " [0.41283128 0.09592087]\n",
      " [0.8013789  0.86727702]\n",
      " [0.84431865 0.32316221]\n",
      " [0.12950783 0.87403506]\n",
      " [0.98190163 0.20377207]\n",
      " [0.65903617 0.94753198]\n",
      " [0.31700911 0.64517294]]\n"
     ]
    }
   ],
   "source": [
    "Z = np.random.rand(10,2)\n",
    "print(relu(Z))"
   ]
  },
  {
   "cell_type": "code",
   "execution_count": 5,
   "id": "997cbea3-af78-4092-8b51-c88140a77f23",
   "metadata": {},
   "outputs": [],
   "source": [
    "def softmax(Z):\n",
    "    exps = np.exp(Z - np.max(Z))\n",
    "    sum = np.sum(exps, axis=0, keepdims=True)\n",
    "    return exps / sum"
   ]
  },
  {
   "cell_type": "code",
   "execution_count": 6,
   "id": "775f6062-82c9-43ce-815d-9d49c69b6e3b",
   "metadata": {},
   "outputs": [
    {
     "name": "stdout",
     "output_type": "stream",
     "text": [
      "2.0\n"
     ]
    }
   ],
   "source": [
    "A = softmax(np.random.randn(10,2))\n",
    "print(np.sum(A))\n",
    "# using math.isclose because of floating point errors\n",
    "assert math.isclose(2, np.sum(A))"
   ]
  },
  {
   "cell_type": "code",
   "execution_count": 7,
   "id": "fff234f6-b421-4fae-934f-f267e0988038",
   "metadata": {},
   "outputs": [],
   "source": [
    "def linear_forward(A_prev, W, b):\n",
    "    Z = np.dot(W, A_prev) + b\n",
    "    cache = (A_prev, W, b)\n",
    "\n",
    "    return Z, cache"
   ]
  },
  {
   "cell_type": "code",
   "execution_count": 8,
   "id": "60c38c7e-f0ac-4c56-a46a-eaaf90d8f6e3",
   "metadata": {},
   "outputs": [],
   "source": [
    "fake_train = np.random.randn(784, 5)\n",
    "fake_W = np.random.randn(10, 784)\n",
    "b = 0\n",
    "fake_Z, fake_cache = linear_forward(fake_train, fake_W, 0)\n",
    "\n",
    "fake_W2 = np.random.randn(20,10)\n",
    "fake_b2 = 0\n",
    "\n",
    "fake_Z2, fake_cache = linear_forward(fake_Z, fake_W2, fake_b2)"
   ]
  },
  {
   "cell_type": "code",
   "execution_count": 9,
   "id": "9d38cd25-333b-4b20-898e-591df0ec746f",
   "metadata": {},
   "outputs": [],
   "source": [
    "def forward_activation(Z, activation):\n",
    "    if activation == \"relu\":\n",
    "        A = relu(Z)\n",
    "        return A, Z\n",
    "    if activation == \"softmax\":\n",
    "        A = softmax(Z)\n",
    "        return A, Z"
   ]
  },
  {
   "cell_type": "code",
   "execution_count": 10,
   "id": "21631368-31fe-4b10-9c9e-8c98cdc04a04",
   "metadata": {},
   "outputs": [],
   "source": [
    "def compute_cost(Y_hat, Y):\n",
    "    m = Y.shape[1]\n",
    "    return -np.sum(Y * np.log(Y_hat)) / m"
   ]
  },
  {
   "cell_type": "code",
   "execution_count": 11,
   "id": "09129d7e-5f51-4142-b168-33a2a20d9709",
   "metadata": {},
   "outputs": [
    {
     "name": "stdout",
     "output_type": "stream",
     "text": [
      "[[1. 0.]\n",
      " [0. 1.]\n",
      " [0. 0.]\n",
      " [0. 0.]\n",
      " [0. 0.]\n",
      " [0. 0.]\n",
      " [0. 0.]\n",
      " [0. 0.]\n",
      " [0. 0.]\n",
      " [0. 0.]]\n",
      "[[0.04825164 0.00642334]\n",
      " [0.08064569 0.02182243]\n",
      " [0.02601519 0.02976439]\n",
      " [0.22047259 0.07170474]\n",
      " [0.04664958 0.06349295]\n",
      " [0.08848984 0.24364418]\n",
      " [0.07361539 0.04407425]\n",
      " [0.29674571 0.03936513]\n",
      " [0.07531153 0.06686991]\n",
      " [0.04380285 0.41283868]]\n",
      "3.4280711168717053\n"
     ]
    }
   ],
   "source": [
    "Y = np.zeros((10,2))\n",
    "Y[0][0] = 1\n",
    "Y[1][1] = 1\n",
    "print(Y)\n",
    "A = softmax(np.array(np.random.randn(10,2)))\n",
    "print(A)\n",
    "print(compute_cost(A, Y))"
   ]
  },
  {
   "cell_type": "code",
   "execution_count": 12,
   "id": "cf6f76f5-e06e-4882-a9db-e1e1fcef3ada",
   "metadata": {},
   "outputs": [],
   "source": [
    "def linear_backward(dZ, cache):\n",
    "    A_prev, W, b = cache\n",
    "    m = A_prev.shape[1]\n",
    "    \n",
    "    dW = np.dot(dZ, A_prev.T) / m\n",
    "    db = np.sum(dZ, axis = 0, keepdims = True) / m\n",
    "    dA_prev = np.dot(W.T, dZ)\n",
    "\n",
    "    return dW, db, dA_prev"
   ]
  },
  {
   "cell_type": "code",
   "execution_count": 13,
   "id": "2455f934-bb04-4f61-8970-2383794a24f6",
   "metadata": {},
   "outputs": [],
   "source": [
    "def relu_activation_backward(Z):\n",
    "    grad = np.zeros_like(Z)\n",
    "    grad[Z > 0] = 1\n",
    "\n",
    "    return grad"
   ]
  },
  {
   "cell_type": "code",
   "execution_count": 14,
   "id": "772ec300-be70-4fbb-b301-cb00d3f3489b",
   "metadata": {},
   "outputs": [
    {
     "name": "stdout",
     "output_type": "stream",
     "text": [
      "[[ 0.80061251 -1.22711744]\n",
      " [-1.55060884  0.92693936]\n",
      " [-0.51135563  0.20048524]\n",
      " [-1.02015128  0.35791063]\n",
      " [-0.1944842  -0.55313325]\n",
      " [ 0.11978371 -0.71084491]\n",
      " [ 0.25655035  1.33420512]\n",
      " [-2.01562255 -0.55228805]\n",
      " [ 0.91933995 -0.12020466]\n",
      " [ 1.16276473 -0.63124937]]\n",
      "[[1. 0.]\n",
      " [0. 1.]\n",
      " [0. 1.]\n",
      " [0. 1.]\n",
      " [0. 0.]\n",
      " [1. 0.]\n",
      " [1. 1.]\n",
      " [0. 0.]\n",
      " [1. 0.]\n",
      " [1. 0.]]\n"
     ]
    }
   ],
   "source": [
    "Z = np.random.randn(10,2)\n",
    "print(Z)\n",
    "print(relu_activation_backward(Z))"
   ]
  },
  {
   "cell_type": "code",
   "execution_count": 15,
   "id": "393a9c87-c9ce-44dc-aad6-90b1474d4618",
   "metadata": {},
   "outputs": [],
   "source": [
    "def softmax_activation_backward(Y_hat, Y):\n",
    "    return Y_hat - Y"
   ]
  },
  {
   "cell_type": "code",
   "execution_count": 16,
   "id": "25bb56d8-6324-4fba-8b1c-bbb91a081837",
   "metadata": {},
   "outputs": [],
   "source": [
    "def update_params(W, b, grads, learning_rate):\n",
    "    dW, db = grads\n",
    "\n",
    "    updated_W = W - dW * learning_rate\n",
    "    updated_b = b - db * learning_rate\n",
    "\n",
    "    return updated_W, updated_b"
   ]
  },
  {
   "cell_type": "code",
   "execution_count": 17,
   "id": "891224aa-e441-484a-a8eb-e49e16195e05",
   "metadata": {},
   "outputs": [
    {
     "name": "stdout",
     "output_type": "stream",
     "text": [
      "(array([[-2.02,  1.98],\n",
      "       [ 2.98,  2.98]]), 0.99)\n"
     ]
    }
   ],
   "source": [
    "update_W = np.array([[-2,2],[3,3]])\n",
    "update_b = 1\n",
    "print(update_params(update_W, update_b, (2, 1), 0.01))"
   ]
  },
  {
   "cell_type": "code",
   "execution_count": 18,
   "id": "070ffe67-f6c7-45f9-995a-d6691e998d6b",
   "metadata": {},
   "outputs": [],
   "source": [
    "dataset = load_dataset('mnist')\n",
    "train_dataset = dataset['train']\n",
    "train_images = []\n",
    "\n",
    "Y = np.zeros((10, 60000))\n",
    "for i, example in enumerate(train_dataset):\n",
    "    train_images.append(np.array(example['image']).flatten())\n",
    "    label = example['label']\n",
    "    Y[label][i-1] = 1\n",
    "\n",
    "train_images = np.array(train_images).T"
   ]
  },
  {
   "cell_type": "code",
   "execution_count": 19,
   "id": "6874c47e-18d1-43ae-807b-2ad81c86f2b2",
   "metadata": {},
   "outputs": [],
   "source": [
    "n_h = 784\n",
    "W1 = np.random.randn(n_h,784) * 0.01\n",
    "b1 = np.zeros((n_h,1))\n",
    "\n",
    "W2 = np.random.randn(10, n_h) * 0.01\n",
    "b2 = np.zeros((10,1))"
   ]
  },
  {
   "cell_type": "code",
   "execution_count": null,
   "id": "3a973bee-2649-48ff-8b0d-0d476d98cda8",
   "metadata": {},
   "outputs": [],
   "source": [
    "#print(W1[:,0])"
   ]
  },
  {
   "cell_type": "code",
   "execution_count": 20,
   "id": "9d53fbff-69f7-4d2e-95bd-2392c6a37376",
   "metadata": {},
   "outputs": [
    {
     "name": "stdout",
     "output_type": "stream",
     "text": [
      "7.332375290418528\n",
      "2.3025850929940455\n",
      "2.3025850929940455\n",
      "2.3025850929940455\n",
      "2.3025850929940455\n",
      "2.3025850929940455\n",
      "2.3025850929940455\n",
      "2.3025850929940455\n",
      "2.3025850929940455\n",
      "2.3025850929940455\n"
     ]
    }
   ],
   "source": [
    "for i in range(100):\n",
    "    Z1, cache1 = linear_forward(train_images, W1, b1)\n",
    "    A1, activation_cache1 = forward_activation(Z1, \"relu\")\n",
    "    \n",
    "    Z2, cache2 = linear_forward(A1, W2, b2)\n",
    "    Y_hat, activation_cache2 = forward_activation(Z2, \"softmax\")\n",
    "\n",
    "    if i % 10 == 0:\n",
    "        print(compute_cost(Y_hat, Y))\n",
    "\n",
    "    # back prop\n",
    "    dZ2 = softmax_activation_backward(Y_hat, Y)\n",
    "    dW2, db2, dA_prev = linear_backward(dZ2, cache2)\n",
    "    \n",
    "    dZ1 = relu_activation_backward(dA_prev)\n",
    "    dW1, db1, dA_prev = linear_backward(dZ1, cache1)\n",
    "\n",
    "    learning_rate = 0.1\n",
    "    W2, b2 = update_params(W2, b2, (dW2, db2), learning_rate)\n",
    "    W1, b1 = update_params(W1, b1, (dW1, db1), learning_rate)"
   ]
  },
  {
   "cell_type": "code",
   "execution_count": 21,
   "id": "3d618129-ab3e-47e3-a0ed-871c97588c18",
   "metadata": {},
   "outputs": [
    {
     "name": "stdout",
     "output_type": "stream",
     "text": [
      "[0.1 0.1 0.1 0.1 0.1 0.1 0.1 0.1 0.1 0.1]\n",
      "[[ 1.36660868e-02  7.29232681e-03  1.91740950e-03 ...  2.36161189e-03\n",
      "   4.87373041e-04 -3.69570747e-03]\n",
      " [-4.52904594e-03 -3.00460148e-03 -2.39135796e-03 ... -1.55388207e-02\n",
      "   3.88808363e-03 -8.11918698e-03]\n",
      " [-9.17735191e-04 -1.35629760e-02  4.38444203e-03 ...  1.43089489e-02\n",
      "  -9.96084746e-03 -1.54381320e-03]\n",
      " ...\n",
      " [-4.66638665e-03 -5.24440675e-03  7.17981893e-05 ...  5.35902131e-03\n",
      "  -2.63796801e-03  3.29085753e-03]\n",
      " [-5.35252940e-03 -3.58190663e-03  7.48062909e-03 ...  1.47151582e-03\n",
      "  -8.55522341e-03  6.55363024e-03]\n",
      " [ 8.05459437e-03 -5.87409968e-03  1.34903865e-02 ... -2.07140787e-03\n",
      "  -2.56660109e-03 -7.94257614e-03]]\n"
     ]
    }
   ],
   "source": [
    "Z1, cache1 = linear_forward(train_images, W1, b1)\n",
    "A1, activation_cache1 = forward_activation(Z1, \"relu\")\n",
    "\n",
    "Z2, cache2 = linear_forward(A1, W2, b2)\n",
    "Y_hat, activation_cache2 = forward_activation(Z2, \"softmax\")\n",
    "print(Y_hat[:,20])\n",
    "print(W1)"
   ]
  }
 ],
 "metadata": {
  "kernelspec": {
   "display_name": "Python 3 (ipykernel)",
   "language": "python",
   "name": "python3"
  },
  "language_info": {
   "codemirror_mode": {
    "name": "ipython",
    "version": 3
   },
   "file_extension": ".py",
   "mimetype": "text/x-python",
   "name": "python",
   "nbconvert_exporter": "python",
   "pygments_lexer": "ipython3",
   "version": "3.9.6"
  }
 },
 "nbformat": 4,
 "nbformat_minor": 5
}
