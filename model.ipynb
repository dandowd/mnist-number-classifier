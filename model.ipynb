{
 "cells": [
  {
   "cell_type": "code",
   "execution_count": 1,
   "id": "1a6de60f-dc10-4bd3-a433-9467f6dc1764",
   "metadata": {},
   "outputs": [],
   "source": [
    "#!pip install numpy datasets Pillow"
   ]
  },
  {
   "cell_type": "code",
   "execution_count": 2,
   "id": "5cd2a369-8421-4ed9-80b6-2fd2e067c93f",
   "metadata": {},
   "outputs": [
    {
     "name": "stderr",
     "output_type": "stream",
     "text": [
      "/Users/danieldowd/Projects/mnist-number-classifier/lib/python3.12/site-packages/tqdm/auto.py:21: TqdmWarning: IProgress not found. Please update jupyter and ipywidgets. See https://ipywidgets.readthedocs.io/en/stable/user_install.html\n",
      "  from .autonotebook import tqdm as notebook_tqdm\n"
     ]
    }
   ],
   "source": [
    "import numpy as np\n",
    "from datasets import load_dataset\n",
    "import math\n",
    "import PIL.Image as Image"
   ]
  },
  {
   "cell_type": "code",
   "execution_count": 3,
   "id": "ced955e3-9252-4b2c-acaa-3f78f72af82b",
   "metadata": {},
   "outputs": [],
   "source": [
    "def relu(Z):\n",
    "    return np.maximum(0,Z)"
   ]
  },
  {
   "cell_type": "code",
   "execution_count": 4,
   "id": "7aeec8f9-1f6a-4084-8dee-1224e50cda37",
   "metadata": {},
   "outputs": [
    {
     "name": "stdout",
     "output_type": "stream",
     "text": [
      "[[0.96607012 0.3168394 ]\n",
      " [0.64886777 0.67772625]\n",
      " [0.52885148 0.19134125]\n",
      " [0.55048054 0.63753456]\n",
      " [0.89960723 0.81837653]\n",
      " [0.04732853 0.61661569]\n",
      " [0.59127758 0.17794064]\n",
      " [0.02766858 0.81537959]\n",
      " [0.04399048 0.44378568]\n",
      " [0.07615009 0.5275206 ]]\n"
     ]
    }
   ],
   "source": [
    "Z = np.random.rand(10,2)\n",
    "print(relu(Z))"
   ]
  },
  {
   "cell_type": "code",
   "execution_count": 5,
   "id": "997cbea3-af78-4092-8b51-c88140a77f23",
   "metadata": {},
   "outputs": [],
   "source": [
    "def softmax(Z):\n",
    "    exps = np.exp(Z - np.max(Z))\n",
    "    sum = np.sum(exps, axis=0, keepdims=True)\n",
    "    return exps / sum"
   ]
  },
  {
   "cell_type": "code",
   "execution_count": 6,
   "id": "775f6062-82c9-43ce-815d-9d49c69b6e3b",
   "metadata": {},
   "outputs": [
    {
     "name": "stdout",
     "output_type": "stream",
     "text": [
      "2.0\n"
     ]
    }
   ],
   "source": [
    "A = softmax(np.random.randn(10,2))\n",
    "print(np.sum(A))\n",
    "# using math.isclose because of floating point errors\n",
    "assert math.isclose(2, np.sum(A))"
   ]
  },
  {
   "cell_type": "code",
   "execution_count": 7,
   "id": "fff234f6-b421-4fae-934f-f267e0988038",
   "metadata": {},
   "outputs": [],
   "source": [
    "def linear_forward(A_prev, W, b):\n",
    "    Z = np.dot(W, A_prev) + b\n",
    "    cache = (A_prev, W, b)\n",
    "\n",
    "    return Z, cache"
   ]
  },
  {
   "cell_type": "code",
   "execution_count": 8,
   "id": "60c38c7e-f0ac-4c56-a46a-eaaf90d8f6e3",
   "metadata": {},
   "outputs": [
    {
     "name": "stdout",
     "output_type": "stream",
     "text": [
      "(10, 5)\n",
      "(20, 5)\n"
     ]
    }
   ],
   "source": [
    "fake_train = np.random.randn(784, 5)\n",
    "fake_W = np.random.randn(10, 784)\n",
    "b = 0\n",
    "fake_Z, fake_cache = linear_forward(fake_train, fake_W, 0)\n",
    "print(fake_Z.shape)\n",
    "\n",
    "fake_W2 = np.random.randn(20,10)\n",
    "fake_b2 = 0\n",
    "\n",
    "fake_Z2, fake_cache = linear_forward(fake_Z, fake_W2, fake_b2)\n",
    "print(fake_Z2.shape)"
   ]
  },
  {
   "cell_type": "code",
   "execution_count": 9,
   "id": "9d38cd25-333b-4b20-898e-591df0ec746f",
   "metadata": {},
   "outputs": [],
   "source": [
    "def forward_activation(Z, activation):\n",
    "    if activation == \"relu\":\n",
    "        A = relu(Z)\n",
    "        return A, Z\n",
    "    if activation == \"softmax\":\n",
    "        A = softmax(Z)\n",
    "        return A, Z"
   ]
  },
  {
   "cell_type": "code",
   "execution_count": 10,
   "id": "21631368-31fe-4b10-9c9e-8c98cdc04a04",
   "metadata": {},
   "outputs": [],
   "source": [
    "def compute_cost(A, Y, m):\n",
    "    return -np.sum(Y * np.log(A))/m"
   ]
  },
  {
   "cell_type": "code",
   "execution_count": 11,
   "id": "09129d7e-5f51-4142-b168-33a2a20d9709",
   "metadata": {},
   "outputs": [
    {
     "name": "stdout",
     "output_type": "stream",
     "text": [
      "[[1. 0.]\n",
      " [0. 1.]\n",
      " [0. 0.]\n",
      " [0. 0.]\n",
      " [0. 0.]\n",
      " [0. 0.]\n",
      " [0. 0.]\n",
      " [0. 0.]\n",
      " [0. 0.]\n",
      " [0. 0.]]\n",
      "[[0.25275634 0.12482923]\n",
      " [0.15255884 0.07994123]\n",
      " [0.03333412 0.0655302 ]\n",
      " [0.14386324 0.27351115]\n",
      " [0.05429998 0.02509985]\n",
      " [0.02723412 0.19535305]\n",
      " [0.15866386 0.0730627 ]\n",
      " [0.08853699 0.14411045]\n",
      " [0.05119893 0.00993916]\n",
      " [0.0375536  0.00862298]]\n",
      "1.9508964268136677\n"
     ]
    }
   ],
   "source": [
    "Y = np.zeros((10,2))\n",
    "Y[0][0] = 1\n",
    "Y[1][1] = 1\n",
    "print(Y)\n",
    "A = softmax(np.array(np.random.randn(10,2)))\n",
    "print(A)\n",
    "print(compute_cost(A, Y, 2))"
   ]
  },
  {
   "cell_type": "code",
   "execution_count": 34,
   "id": "cf6f76f5-e06e-4882-a9db-e1e1fcef3ada",
   "metadata": {},
   "outputs": [],
   "source": [
    "def linear_backward(dZ, cache):\n",
    "    A_prev, W, b = cache\n",
    "    m = A_prev.shape[1]\n",
    "    \n",
    "    dW = np.dot(W, A_prev.T) / m\n",
    "    db = np.sum(dZ, axis = 0, keepdims = True) / m\n",
    "    dA_prev = np.dot(W.T, dZ)\n",
    "\n",
    "    return dW, db, dA_prev"
   ]
  },
  {
   "cell_type": "code",
   "execution_count": 35,
   "id": "2455f934-bb04-4f61-8970-2383794a24f6",
   "metadata": {},
   "outputs": [],
   "source": [
    "def relu_activation_backward(Z):\n",
    "    grad = np.zeros_like(Z)\n",
    "    grad[Z > 0] = 1\n",
    "\n",
    "    return grad"
   ]
  },
  {
   "cell_type": "code",
   "execution_count": 36,
   "id": "772ec300-be70-4fbb-b301-cb00d3f3489b",
   "metadata": {},
   "outputs": [
    {
     "name": "stdout",
     "output_type": "stream",
     "text": [
      "[[-0.02122622  1.35463616]\n",
      " [-0.25994417 -1.50828852]\n",
      " [-1.46301262 -0.78484939]\n",
      " [-1.85765904 -0.06063431]\n",
      " [-0.57632942 -0.65555518]\n",
      " [ 1.43746918 -0.2336613 ]\n",
      " [-2.65643845  1.45927216]\n",
      " [-0.59053698 -1.47517829]\n",
      " [-1.30091946  0.53267311]\n",
      " [ 0.21624597 -0.81412323]]\n",
      "[[0. 1.]\n",
      " [0. 0.]\n",
      " [0. 0.]\n",
      " [0. 0.]\n",
      " [0. 0.]\n",
      " [1. 0.]\n",
      " [0. 1.]\n",
      " [0. 0.]\n",
      " [0. 1.]\n",
      " [1. 0.]]\n"
     ]
    }
   ],
   "source": [
    "Z = np.random.randn(10,2)\n",
    "print(Z)\n",
    "print(relu_activation_backward(Z))"
   ]
  },
  {
   "cell_type": "code",
   "execution_count": 15,
   "id": "393a9c87-c9ce-44dc-aad6-90b1474d4618",
   "metadata": {},
   "outputs": [],
   "source": [
    "def softmax_activation_backward(Y_hat, Y):\n",
    "    return Y_hat - Y"
   ]
  },
  {
   "cell_type": "code",
   "execution_count": 27,
   "id": "25bb56d8-6324-4fba-8b1c-bbb91a081837",
   "metadata": {},
   "outputs": [],
   "source": [
    "def update_params(W, b, grads, learning_rate):\n",
    "    dW, db = grads\n",
    "    print(dW.shape)\n",
    "    W = W - (dW * learning_rate)\n",
    "    b = b - (db * learning_rate)\n",
    "\n",
    "    return W, b"
   ]
  },
  {
   "cell_type": "code",
   "execution_count": 17,
   "id": "070ffe67-f6c7-45f9-995a-d6691e998d6b",
   "metadata": {},
   "outputs": [],
   "source": [
    "dataset = load_dataset('mnist')\n",
    "train_dataset = dataset['train']\n",
    "train_images = []\n",
    "\n",
    "Y = np.zeros((10, 60000))\n",
    "for i, example in enumerate(train_dataset):\n",
    "    train_images.append(np.array(example['image']).flatten())\n",
    "    label = example['label']\n",
    "    Y[label][i] = 1\n",
    "\n",
    "train_images = np.array(train_images).T"
   ]
  },
  {
   "cell_type": "code",
   "execution_count": 31,
   "id": "6874c47e-18d1-43ae-807b-2ad81c86f2b2",
   "metadata": {},
   "outputs": [],
   "source": [
    "n_h = 10\n",
    "W1 = np.random.randn(n_h,784) * 0.01\n",
    "b1 = np.zeros((n_h,1))\n",
    "\n",
    "W2 = np.random.randn(n_h, 10) * 0.01\n",
    "b2 = np.zeros((n_h,1))\n",
    "\n",
    "Z1, cache1 = linear_forward(train_images, W1, b1)\n",
    "A1, activation_cache1 = forward_activation(Z1, \"relu\")\n",
    "\n",
    "Z2, cache2 = linear_forward(A1, W2, b2)\n",
    "Y_hat, activation_cache2 = forward_activation(Z2, \"softmax\")"
   ]
  },
  {
   "cell_type": "code",
   "execution_count": 40,
   "id": "6e31d193-cabe-4cd6-9182-40b19104f1cf",
   "metadata": {},
   "outputs": [
    {
     "name": "stdout",
     "output_type": "stream",
     "text": [
      "(10, 784)\n",
      "2.445579636612893\n"
     ]
    }
   ],
   "source": [
    "print(W1.shape)\n",
    "print(compute_cost(Y_hat, Y, train_images.shape[1]))"
   ]
  },
  {
   "cell_type": "code",
   "execution_count": 42,
   "id": "9d53fbff-69f7-4d2e-95bd-2392c6a37376",
   "metadata": {},
   "outputs": [
    {
     "ename": "ValueError",
     "evalue": "shapes (10,10) and (60000,10) not aligned: 10 (dim 1) != 60000 (dim 0)",
     "output_type": "error",
     "traceback": [
      "\u001b[0;31m---------------------------------------------------------------------------\u001b[0m",
      "\u001b[0;31mValueError\u001b[0m                                Traceback (most recent call last)",
      "Cell \u001b[0;32mIn[42], line 2\u001b[0m\n\u001b[1;32m      1\u001b[0m dZ2 \u001b[38;5;241m=\u001b[39m softmax_activation_backward(Y_hat, Y)\n\u001b[0;32m----> 2\u001b[0m dW2, db2, dA_prev \u001b[38;5;241m=\u001b[39m \u001b[43mlinear_backward\u001b[49m\u001b[43m(\u001b[49m\u001b[43mdZ2\u001b[49m\u001b[43m,\u001b[49m\u001b[43m \u001b[49m\u001b[43mcache2\u001b[49m\u001b[43m)\u001b[49m\n\u001b[1;32m      4\u001b[0m dZ1 \u001b[38;5;241m=\u001b[39m relu_activation_backward(dA_prev)\n\u001b[1;32m      5\u001b[0m dW1, db1, dA_prev \u001b[38;5;241m=\u001b[39m linear_backward(dZ1, cache1)\n",
      "Cell \u001b[0;32mIn[34], line 5\u001b[0m, in \u001b[0;36mlinear_backward\u001b[0;34m(dZ, cache)\u001b[0m\n\u001b[1;32m      2\u001b[0m A_prev, W, b \u001b[38;5;241m=\u001b[39m cache\n\u001b[1;32m      3\u001b[0m m \u001b[38;5;241m=\u001b[39m A_prev\u001b[38;5;241m.\u001b[39mshape[\u001b[38;5;241m1\u001b[39m]\n\u001b[0;32m----> 5\u001b[0m dW \u001b[38;5;241m=\u001b[39m \u001b[43mnp\u001b[49m\u001b[38;5;241;43m.\u001b[39;49m\u001b[43mdot\u001b[49m\u001b[43m(\u001b[49m\u001b[43mW\u001b[49m\u001b[43m,\u001b[49m\u001b[43m \u001b[49m\u001b[43mA_prev\u001b[49m\u001b[38;5;241;43m.\u001b[39;49m\u001b[43mT\u001b[49m\u001b[43m)\u001b[49m \u001b[38;5;241m/\u001b[39m m\n\u001b[1;32m      6\u001b[0m db \u001b[38;5;241m=\u001b[39m np\u001b[38;5;241m.\u001b[39msum(dZ, axis \u001b[38;5;241m=\u001b[39m \u001b[38;5;241m0\u001b[39m, keepdims \u001b[38;5;241m=\u001b[39m \u001b[38;5;28;01mTrue\u001b[39;00m) \u001b[38;5;241m/\u001b[39m m\n\u001b[1;32m      7\u001b[0m dA_prev \u001b[38;5;241m=\u001b[39m np\u001b[38;5;241m.\u001b[39mdot(W\u001b[38;5;241m.\u001b[39mT, dZ)\n",
      "\u001b[0;31mValueError\u001b[0m: shapes (10,10) and (60000,10) not aligned: 10 (dim 1) != 60000 (dim 0)"
     ]
    }
   ],
   "source": [
    "dZ2 = softmax_activation_backward(Y_hat, Y)\n",
    "dW2, db2, dA_prev = linear_backward(dZ2, cache2)\n",
    "\n",
    "dZ1 = relu_activation_backward(dA_prev)\n",
    "dW1, db1, dA_prev = linear_backward(dZ1, cache1)"
   ]
  },
  {
   "cell_type": "code",
   "execution_count": 41,
   "id": "92c3f432-c920-4f37-bfdf-a83082404ca0",
   "metadata": {},
   "outputs": [
    {
     "name": "stdout",
     "output_type": "stream",
     "text": [
      "(10, 60000)\n"
     ]
    }
   ],
   "source": [
    "print(dZ2.shape)"
   ]
  },
  {
   "cell_type": "code",
   "execution_count": 23,
   "id": "667d26e9-7506-4cae-920d-ac25ad8b9107",
   "metadata": {},
   "outputs": [
    {
     "name": "stdout",
     "output_type": "stream",
     "text": [
      "(10, 60000)\n"
     ]
    },
    {
     "ename": "ValueError",
     "evalue": "operands could not be broadcast together with shapes (10,10) (10,60000) ",
     "output_type": "error",
     "traceback": [
      "\u001b[0;31m---------------------------------------------------------------------------\u001b[0m",
      "\u001b[0;31mValueError\u001b[0m                                Traceback (most recent call last)",
      "Cell \u001b[0;32mIn[23], line 1\u001b[0m\n\u001b[0;32m----> 1\u001b[0m W2, b2 \u001b[38;5;241m=\u001b[39m \u001b[43mupdate_params\u001b[49m\u001b[43m(\u001b[49m\u001b[43mW2\u001b[49m\u001b[43m,\u001b[49m\u001b[43m \u001b[49m\u001b[43mb2\u001b[49m\u001b[43m,\u001b[49m\u001b[43m \u001b[49m\u001b[43m(\u001b[49m\u001b[43mdW2\u001b[49m\u001b[43m,\u001b[49m\u001b[43m \u001b[49m\u001b[43mdb2\u001b[49m\u001b[43m)\u001b[49m\u001b[43m,\u001b[49m\u001b[43m \u001b[49m\u001b[38;5;241;43m0.01\u001b[39;49m\u001b[43m)\u001b[49m\n\u001b[1;32m      2\u001b[0m W1, b1 \u001b[38;5;241m=\u001b[39m update_params(W1, b1, (dW1, db1), \u001b[38;5;241m0.01\u001b[39m)\n",
      "Cell \u001b[0;32mIn[16], line 4\u001b[0m, in \u001b[0;36mupdate_params\u001b[0;34m(W, b, grads, learning_rate)\u001b[0m\n\u001b[1;32m      2\u001b[0m dW, db \u001b[38;5;241m=\u001b[39m grads\n\u001b[1;32m      3\u001b[0m \u001b[38;5;28mprint\u001b[39m(dW\u001b[38;5;241m.\u001b[39mshape)\n\u001b[0;32m----> 4\u001b[0m W \u001b[38;5;241m=\u001b[39m \u001b[43mW\u001b[49m\u001b[43m \u001b[49m\u001b[38;5;241;43m-\u001b[39;49m\u001b[43m \u001b[49m\u001b[43m(\u001b[49m\u001b[43mdW\u001b[49m\u001b[43m \u001b[49m\u001b[38;5;241;43m*\u001b[39;49m\u001b[43m \u001b[49m\u001b[43mlearning_rate\u001b[49m\u001b[43m)\u001b[49m\n\u001b[1;32m      5\u001b[0m b \u001b[38;5;241m=\u001b[39m b \u001b[38;5;241m-\u001b[39m (db \u001b[38;5;241m*\u001b[39m learning_rate)\n\u001b[1;32m      7\u001b[0m \u001b[38;5;28;01mreturn\u001b[39;00m W, b\n",
      "\u001b[0;31mValueError\u001b[0m: operands could not be broadcast together with shapes (10,10) (10,60000) "
     ]
    }
   ],
   "source": [
    "W2, b2 = update_params(W2, b2, (dW2, db2), 0.01)\n",
    "W1, b1 = update_params(W1, b1, (dW1, db1), 0.01)"
   ]
  }
 ],
 "metadata": {
  "kernelspec": {
   "display_name": "my-env",
   "language": "python",
   "name": "my-env"
  },
  "language_info": {
   "codemirror_mode": {
    "name": "ipython",
    "version": 3
   },
   "file_extension": ".py",
   "mimetype": "text/x-python",
   "name": "python",
   "nbconvert_exporter": "python",
   "pygments_lexer": "ipython3",
   "version": "3.12.2"
  }
 },
 "nbformat": 4,
 "nbformat_minor": 5
}
