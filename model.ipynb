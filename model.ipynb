{
 "cells": [
  {
   "cell_type": "code",
   "execution_count": 1,
   "id": "1a6de60f-dc10-4bd3-a433-9467f6dc1764",
   "metadata": {},
   "outputs": [],
   "source": [
    "#!pip install numpy datasets Pillow"
   ]
  },
  {
   "cell_type": "code",
   "execution_count": 2,
   "id": "5cd2a369-8421-4ed9-80b6-2fd2e067c93f",
   "metadata": {},
   "outputs": [
    {
     "name": "stderr",
     "output_type": "stream",
     "text": [
      "/Users/danieldowd/Library/Python/3.9/lib/python/site-packages/urllib3/__init__.py:35: NotOpenSSLWarning: urllib3 v2 only supports OpenSSL 1.1.1+, currently the 'ssl' module is compiled with 'LibreSSL 2.8.3'. See: https://github.com/urllib3/urllib3/issues/3020\n",
      "  warnings.warn(\n",
      "/Users/danieldowd/Library/Python/3.9/lib/python/site-packages/tqdm/auto.py:21: TqdmWarning: IProgress not found. Please update jupyter and ipywidgets. See https://ipywidgets.readthedocs.io/en/stable/user_install.html\n",
      "  from .autonotebook import tqdm as notebook_tqdm\n"
     ]
    }
   ],
   "source": [
    "import numpy as np\n",
    "from datasets import load_dataset\n",
    "import math\n",
    "import PIL.Image as Image"
   ]
  },
  {
   "cell_type": "code",
   "execution_count": 3,
   "id": "ced955e3-9252-4b2c-acaa-3f78f72af82b",
   "metadata": {},
   "outputs": [],
   "source": [
    "def relu(Z):\n",
    "    return np.maximum(0,Z)"
   ]
  },
  {
   "cell_type": "code",
   "execution_count": 4,
   "id": "7aeec8f9-1f6a-4084-8dee-1224e50cda37",
   "metadata": {},
   "outputs": [
    {
     "name": "stdout",
     "output_type": "stream",
     "text": [
      "[[0.87680351 0.27015617]\n",
      " [0.11788694 0.84693214]\n",
      " [0.26065975 0.71332669]\n",
      " [0.19572592 0.50501034]\n",
      " [0.87722157 0.62631142]\n",
      " [0.26091206 0.84459024]\n",
      " [0.14998426 0.97023634]\n",
      " [0.14403422 0.04037952]\n",
      " [0.29609888 0.41325615]\n",
      " [0.65380029 0.40945695]]\n"
     ]
    }
   ],
   "source": [
    "Z = np.random.rand(10,2)\n",
    "print(relu(Z))"
   ]
  },
  {
   "cell_type": "code",
   "execution_count": 5,
   "id": "997cbea3-af78-4092-8b51-c88140a77f23",
   "metadata": {},
   "outputs": [],
   "source": [
    "def softmax(Z):\n",
    "    exps = np.exp(Z - np.max(Z))\n",
    "    sum = np.sum(exps, axis=0, keepdims=True)\n",
    "    return exps / sum"
   ]
  },
  {
   "cell_type": "code",
   "execution_count": 6,
   "id": "775f6062-82c9-43ce-815d-9d49c69b6e3b",
   "metadata": {},
   "outputs": [
    {
     "name": "stdout",
     "output_type": "stream",
     "text": [
      "2.0000000000000004\n"
     ]
    }
   ],
   "source": [
    "A = softmax(np.random.randn(10,2))\n",
    "print(np.sum(A))\n",
    "# using math.isclose because of floating point errors\n",
    "assert math.isclose(2, np.sum(A))"
   ]
  },
  {
   "cell_type": "code",
   "execution_count": 7,
   "id": "fff234f6-b421-4fae-934f-f267e0988038",
   "metadata": {},
   "outputs": [],
   "source": [
    "def linear_forward(A_prev, W, b):\n",
    "    \"\"\"Linear Transformation\n",
    "    Takes activation output of previous, W and b of current \n",
    "    returns tuple with Z and cache of the inputs to this function\n",
    "    \"\"\"\n",
    "    \n",
    "    Z = np.dot(W, A_prev) + b\n",
    "    cache = (A_prev, W, b)\n",
    "\n",
    "    return Z, cache"
   ]
  },
  {
   "cell_type": "code",
   "execution_count": 8,
   "id": "60c38c7e-f0ac-4c56-a46a-eaaf90d8f6e3",
   "metadata": {},
   "outputs": [],
   "source": [
    "fake_train = np.random.randn(784, 5)\n",
    "fake_W = np.random.randn(10, 784)\n",
    "b = 0\n",
    "fake_Z, fake_cache = linear_forward(fake_train, fake_W, 0)\n",
    "\n",
    "fake_W2 = np.random.randn(20,10)\n",
    "fake_b2 = 0\n",
    "\n",
    "fake_Z2, fake_cache = linear_forward(fake_Z, fake_W2, fake_b2)"
   ]
  },
  {
   "cell_type": "code",
   "execution_count": 9,
   "id": "9d38cd25-333b-4b20-898e-591df0ec746f",
   "metadata": {},
   "outputs": [],
   "source": [
    "def forward_activation(Z, activation):\n",
    "    \"\"\"\n",
    "    @param Z output of linear layer\n",
    "    @param relu or softmax\n",
    "    returns output of activation and Z\n",
    "    \"\"\"\n",
    "    if activation == \"relu\":\n",
    "        A = relu(Z)\n",
    "        return A, Z\n",
    "    if activation == \"softmax\":\n",
    "        A = softmax(Z)\n",
    "        return A, Z"
   ]
  },
  {
   "cell_type": "code",
   "execution_count": 10,
   "id": "21631368-31fe-4b10-9c9e-8c98cdc04a04",
   "metadata": {},
   "outputs": [],
   "source": [
    "def compute_cost(Y_hat, Y):\n",
    "    m = Y.shape[1]\n",
    "    return -np.sum(Y * np.log(Y_hat)) / m"
   ]
  },
  {
   "cell_type": "code",
   "execution_count": 11,
   "id": "09129d7e-5f51-4142-b168-33a2a20d9709",
   "metadata": {},
   "outputs": [
    {
     "name": "stdout",
     "output_type": "stream",
     "text": [
      "[[1. 0.]\n",
      " [0. 1.]\n",
      " [0. 0.]\n",
      " [0. 0.]\n",
      " [0. 0.]\n",
      " [0. 0.]\n",
      " [0. 0.]\n",
      " [0. 0.]\n",
      " [0. 0.]\n",
      " [0. 0.]]\n",
      "[[0.22144355 0.02745741]\n",
      " [0.05756838 0.06711479]\n",
      " [0.06647727 0.11267901]\n",
      " [0.01098744 0.05124392]\n",
      " [0.06085267 0.08185695]\n",
      " [0.07218655 0.03524041]\n",
      " [0.10169815 0.19416332]\n",
      " [0.18797884 0.0883971 ]\n",
      " [0.02432658 0.08781962]\n",
      " [0.19648056 0.25402749]]\n",
      "2.104469221160171\n"
     ]
    }
   ],
   "source": [
    "Y = np.zeros((10,2))\n",
    "Y[0][0] = 1\n",
    "Y[1][1] = 1\n",
    "print(Y)\n",
    "A = softmax(np.array(np.random.randn(10,2)))\n",
    "print(A)\n",
    "print(compute_cost(A, Y))"
   ]
  },
  {
   "cell_type": "code",
   "execution_count": 12,
   "id": "cf6f76f5-e06e-4882-a9db-e1e1fcef3ada",
   "metadata": {},
   "outputs": [],
   "source": [
    "def linear_backward(dZ, cache):\n",
    "    A_prev, W, b = cache\n",
    "    m = A_prev.shape[1]\n",
    "    \n",
    "    dW = np.dot(dZ, A_prev.T) / m\n",
    "    db = np.sum(dZ, axis = 0, keepdims = True) / m\n",
    "    dA_prev = np.dot(W.T, dZ)\n",
    "\n",
    "    return dA_prev, dW, db"
   ]
  },
  {
   "cell_type": "code",
   "execution_count": 13,
   "id": "2455f934-bb04-4f61-8970-2383794a24f6",
   "metadata": {},
   "outputs": [],
   "source": [
    "def relu_activation_backward(dA, Z):\n",
    "    dZ = np.array(dA, copy=True)\n",
    "    dZ[Z <= 0] = 0\n",
    "\n",
    "    return dZ"
   ]
  },
  {
   "cell_type": "code",
   "execution_count": 14,
   "id": "393a9c87-c9ce-44dc-aad6-90b1474d4618",
   "metadata": {},
   "outputs": [],
   "source": [
    "def cross_entropy_softmax_activation_backward(Y_hat, Y):\n",
    "    return Y_hat - Y"
   ]
  },
  {
   "cell_type": "code",
   "execution_count": 15,
   "id": "25bb56d8-6324-4fba-8b1c-bbb91a081837",
   "metadata": {},
   "outputs": [],
   "source": [
    "def update_params(W, b, dW, db, learning_rate):\n",
    "    updated_W = W - dW * learning_rate\n",
    "    updated_b = b - db * learning_rate\n",
    "\n",
    "    return updated_W, updated_b"
   ]
  },
  {
   "cell_type": "code",
   "execution_count": 16,
   "id": "891224aa-e441-484a-a8eb-e49e16195e05",
   "metadata": {},
   "outputs": [
    {
     "name": "stdout",
     "output_type": "stream",
     "text": [
      "(array([[-2.02,  1.98],\n",
      "       [ 2.98,  2.98]]), 0.99)\n"
     ]
    }
   ],
   "source": [
    "update_W = np.array([[-2,2],[3,3]])\n",
    "update_b = 1\n",
    "print(update_params(update_W, update_b, 2, 1, 0.01))"
   ]
  },
  {
   "cell_type": "code",
   "execution_count": 17,
   "id": "9b07a06e-cc3b-4f54-a2e3-f483174aa518",
   "metadata": {},
   "outputs": [],
   "source": [
    "def model_forward(X, params):\n",
    "    \"\"\"\n",
    "    Passes input through layers. Params should account for at least 2 layers.\n",
    "    returns Y_hat, params, and cache for each layer\n",
    "    \"\"\"\n",
    "    if len(params) <= 1:\n",
    "        raise Exception(\"model_forward params should contain at least 2 layers\")\n",
    "    \n",
    "    caches = []\n",
    "\n",
    "    # first layer uses the input X\n",
    "    first_W, first_b = params[0]\n",
    "    Z, forward_cache = linear_forward(X, first_W, first_b)\n",
    "    A, activation_cache = forward_activation(Z, \"relu\")\n",
    "    caches.append((forward_cache, activation_cache))\n",
    "\n",
    "    # all of the middle layers use the previous layers output\n",
    "    for W,b in params[1:-1]:\n",
    "        Z, forward_cache = linear_forward(A, W, b)\n",
    "        A, activation_cache = forward_activation(Z, \"relu\")\n",
    "        caches.append((forward_cache, activation_cache))\n",
    "\n",
    "    # last layer uses the softmax activation function\n",
    "    last_W, last_b = params[-1]\n",
    "    Z, forward_cache = linear_forward(A, last_W, last_b)\n",
    "    A, activation_cache = forward_activation(Z, \"softmax\")\n",
    "    caches.append((forward_cache, activation_cache))\n",
    "\n",
    "    return A, params, caches"
   ]
  },
  {
   "cell_type": "code",
   "execution_count": 18,
   "id": "48a7a096-9913-4d93-985b-db435bf0ec47",
   "metadata": {},
   "outputs": [],
   "source": [
    "def model_backward(Y_hat, Y, params, caches):\n",
    "    \"\"\"\n",
    "    @param Y_hat predicated outputs from forward pass\n",
    "    @param Y true labels\n",
    "    @param params to be updated\n",
    "    @param caches tuple containing forward_cache and activation_cache from forward\n",
    "    \"\"\"\n",
    "    learning_rate = 0.01\n",
    "    \n",
    "    last_linear_cache, last_activation_cache = caches[-1]\n",
    "    dZ = cross_entropy_softmax_activation_backward(Y_hat, Y)\n",
    "    dA_prev, dW, db = linear_backward(dZ, last_linear_cache)\n",
    "    temp_W, temp_b = params[-1]\n",
    "    params[-1] = update_params(temp_W, temp_b, dW, db, learning_rate)\n",
    "\n",
    "    # don't include the last\n",
    "    params_pointer = len(params) - 2\n",
    "    for linear_cache, activation_cache in reversed(caches[:-1]):\n",
    "        dZ = relu_activation_backward(dA_prev, activation_cache)\n",
    "        dA_prev, dW, db = linear_backward(dZ, linear_cache)\n",
    "        temp_W, temp_b = params[params_pointer]\n",
    "        params[params_pointer] = update_params(temp_W, temp_b, dW, db, learning_rate)\n",
    "\n",
    "    return params"
   ]
  },
  {
   "cell_type": "code",
   "execution_count": 19,
   "id": "070ffe67-f6c7-45f9-995a-d6691e998d6b",
   "metadata": {},
   "outputs": [],
   "source": [
    "dataset = load_dataset('mnist')\n",
    "train_dataset = dataset['train']\n",
    "train_images = []\n",
    "\n",
    "Y = np.zeros((10, 60000))\n",
    "for i, example in enumerate(train_dataset):\n",
    "    train_images.append(np.array(example['image']).flatten())\n",
    "    label = example['label']\n",
    "    Y[label][i] = 1\n",
    "\n",
    "train_images = np.array(train_images).T"
   ]
  },
  {
   "cell_type": "code",
   "execution_count": 20,
   "id": "fab7bd29-4c03-4869-80e2-58f8ec1085f2",
   "metadata": {},
   "outputs": [
    {
     "name": "stdout",
     "output_type": "stream",
     "text": [
      "[0. 0. 0. 0. 0. 1. 0. 0. 0. 0.]\n",
      "5\n"
     ]
    }
   ],
   "source": [
    "print(Y[:,0])\n",
    "print(train_dataset['label'][0])"
   ]
  },
  {
   "cell_type": "code",
   "execution_count": 28,
   "id": "6874c47e-18d1-43ae-807b-2ad81c86f2b2",
   "metadata": {},
   "outputs": [],
   "source": [
    "n_h = 784\n",
    "W1 = np.random.randn(n_h,784) * 0.01\n",
    "b1 = np.zeros((n_h,1))\n",
    "\n",
    "W2 = np.random.randn(10, n_h) * 0.01\n",
    "b2 = np.zeros((10,1))\n",
    "\n",
    "params = [(W1, b1), (W2, b2)]"
   ]
  },
  {
   "cell_type": "code",
   "execution_count": 45,
   "id": "b2f9cb6b-32b1-4686-8ce9-7004a805b2db",
   "metadata": {},
   "outputs": [
    {
     "name": "stdout",
     "output_type": "stream",
     "text": [
      "4.085413982531726\n",
      "3.316406262126225\n",
      "2.0700471398685947\n",
      "1.262309302496258\n",
      "1.0056241518436944\n",
      "0.8228189837669786\n",
      "1.069458322222579\n",
      "1.5485774027289823\n",
      "1.8952673544336\n",
      "1.1655356851986098\n",
      "0.829332941778737\n",
      "0.6719739755461703\n",
      "0.7704902209092545\n",
      "0.9982031655577659\n",
      "0.8984827379898178\n",
      "0.7531528982523117\n",
      "0.7111493812065169\n",
      "0.9722820590322082\n",
      "1.179620631749935\n",
      "1.580294695160553\n",
      "0.8536644026659025\n",
      "0.712781487584349\n",
      "0.5510943969999746\n",
      "0.45007069873892314\n",
      "0.5877110779134657\n",
      "0.9074953068180116\n",
      "0.902162213216696\n",
      "0.8665547814713752\n",
      "0.7529173834783813\n",
      "0.624455136849103\n",
      "0.5420401235559168\n",
      "0.4982369259270695\n",
      "0.5413434332778497\n",
      "0.8752782727040261\n",
      "0.8194199739268196\n",
      "0.5891593480570656\n",
      "0.45536656037213474\n",
      "0.48737419860186953\n",
      "0.5776022124399351\n",
      "0.8110200042647763\n",
      "0.79250397152216\n",
      "0.6855824456225841\n",
      "0.48403193614798135\n",
      "0.47148096310234694\n",
      "0.4130332917703356\n",
      "0.44383064427707875\n",
      "0.43128587002592617\n",
      "0.38965783874124843\n",
      "0.5870149842940161\n",
      "0.4545809542956719\n",
      "0.37227583098935924\n",
      "0.3307695282100946\n",
      "0.4114038095280192\n",
      "0.39735208864890703\n",
      "0.40694504690503064\n",
      "0.35783558032072016\n",
      "0.28444636762326053\n",
      "0.3161704537301773\n",
      "0.2864057776471214\n",
      "0.35895108989906227\n",
      "0.25196219550319393\n",
      "0.23952792854332336\n",
      "0.23542214191041258\n",
      "0.2410974489925633\n",
      "0.23955126026032406\n",
      "0.26938969473826724\n",
      "0.2451403800594178\n",
      "0.28994904785050185\n",
      "0.22807781791465057\n",
      "0.23888162827073375\n",
      "0.22064554524242885\n",
      "0.2307490143856961\n",
      "0.21527157550375695\n",
      "0.22495116787818942\n",
      "0.21055319554214866\n",
      "0.2193683518914343\n",
      "0.20602102731128213\n",
      "0.21372049217260586\n",
      "0.2016232295953634\n",
      "0.20816721941579258\n",
      "0.19749422542309542\n",
      "0.20306236889016427\n",
      "0.1936158400309724\n",
      "0.198344641621094\n",
      "0.18998503601199038\n",
      "0.19410305962439922\n",
      "0.1865517901547917\n",
      "0.19013103053869224\n",
      "0.18334893577998468\n",
      "0.18650879580844287\n",
      "0.18035756169845202\n",
      "0.1831854110200857\n",
      "0.17758339980859794\n",
      "0.18016151145101095\n",
      "0.1749641134974606\n",
      "0.1773573504075794\n",
      "0.17247522923343875\n",
      "0.1747877707184446\n",
      "0.17016072543819993\n",
      "0.17234116658609874\n"
     ]
    }
   ],
   "source": [
    "for i in range(100):\n",
    "    Y_hat, params, caches = model_forward(train_images, params) \n",
    "    print(compute_cost(Y_hat, Y))\n",
    "    model_backward(Y_hat, Y, params, caches)"
   ]
  },
  {
   "cell_type": "code",
   "execution_count": 46,
   "id": "78677152-da91-4888-a819-e80a6ffaf646",
   "metadata": {},
   "outputs": [
    {
     "name": "stdout",
     "output_type": "stream",
     "text": [
      "3062\n"
     ]
    }
   ],
   "source": [
    "Y_hat, params, caches = model_forward(train_images, params)\n",
    "target = 20009\n",
    "Y_pred = np.argmax(Y_hat, axis=0)\n",
    "Y_answer = np.argmax(Y, axis=0)\n",
    "\n",
    "diff = Y_pred - Y_answer\n",
    "print(np.count_nonzero(diff))"
   ]
  }
 ],
 "metadata": {
  "kernelspec": {
   "display_name": "Python 3 (ipykernel)",
   "language": "python",
   "name": "python3"
  },
  "language_info": {
   "codemirror_mode": {
    "name": "ipython",
    "version": 3
   },
   "file_extension": ".py",
   "mimetype": "text/x-python",
   "name": "python",
   "nbconvert_exporter": "python",
   "pygments_lexer": "ipython3",
   "version": "3.9.6"
  }
 },
 "nbformat": 4,
 "nbformat_minor": 5
}
